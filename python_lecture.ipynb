{
 "cells": [
  {
   "attachments": {},
   "cell_type": "markdown",
   "metadata": {},
   "source": [
    "# 0_파이썬 특징\n",
    "\n",
    "- 스네이크기법 : ‘_’로 단어 연결\n",
    "- 카멜표기법 : 대문자, 소문자 단어 분리\n",
    "\n",
    "- 변수 < 집합형변수 < 함수 < 클래스 < 모듈(파일) < 라이브러리 < 패키지(폴더)\n",
    "    -  클래스명은 첫글자를 대문자로 표시\n",
    "    -  함수명()은 소문자로 표시\n",
    "    -  변수명은 소문자로 시작 \n"
   ]
  },
  {
   "attachments": {},
   "cell_type": "markdown",
   "metadata": {},
   "source": [
    "# 1_자료형"
   ]
  },
  {
   "attachments": {},
   "cell_type": "markdown",
   "metadata": {},
   "source": [
    "## 숫자 자료형"
   ]
  },
  {
   "cell_type": "code",
   "execution_count": 1,
   "metadata": {},
   "outputs": [
    {
     "name": "stdout",
     "output_type": "stream",
     "text": [
      "123\n"
     ]
    }
   ],
   "source": [
    "print(123)"
   ]
  },
  {
   "attachments": {},
   "cell_type": "markdown",
   "metadata": {},
   "source": [
    "## 문자 자료형"
   ]
  },
  {
   "cell_type": "code",
   "execution_count": 5,
   "metadata": {},
   "outputs": [
    {
     "name": "stdout",
     "output_type": "stream",
     "text": [
      "가나다\n",
      "가나다\n"
     ]
    }
   ],
   "source": [
    "print(\"가나다\")\n",
    "print('가나다')"
   ]
  },
  {
   "cell_type": "code",
   "execution_count": 30,
   "metadata": {},
   "outputs": [
    {
     "name": "stdout",
     "output_type": "stream",
     "text": [
      "가 나\n",
      "다\n",
      "가\n",
      "나\n",
      "다\n"
     ]
    }
   ],
   "source": [
    "print('''가 나\n",
    "다''')\n",
    "\n",
    "print(\"\"\"가\n",
    "나\n",
    "다\"\"\")"
   ]
  },
  {
   "attachments": {},
   "cell_type": "markdown",
   "metadata": {},
   "source": [
    "## 논리(boolean) 자료형"
   ]
  },
  {
   "cell_type": "code",
   "execution_count": 6,
   "metadata": {},
   "outputs": [
    {
     "name": "stdout",
     "output_type": "stream",
     "text": [
      "True\n",
      "False\n",
      "False\n",
      "True\n"
     ]
    }
   ],
   "source": [
    "print(True)\n",
    "print(False)\n",
    "print(not True)\n",
    "print(not False)"
   ]
  },
  {
   "attachments": {},
   "cell_type": "markdown",
   "metadata": {},
   "source": [
    "- python 특징"
   ]
  },
  {
   "cell_type": "code",
   "execution_count": 7,
   "metadata": {},
   "outputs": [
    {
     "name": "stdout",
     "output_type": "stream",
     "text": [
      "None\n"
     ]
    }
   ],
   "source": [
    "\"python\"  # 참\n",
    "None  # 거짓\n",
    "\n",
    "1  # 참\n",
    "0  # 거짓\n",
    "\n",
    "\" \"  # 참\n",
    "\"\" # 거짓\n",
    "\n",
    "\n",
    "[1,2,3]  # 참\n",
    "[]  # 거짓\n",
    "()  # 거짓\n",
    "{} # 거짓"
   ]
  },
  {
   "attachments": {},
   "cell_type": "markdown",
   "metadata": {},
   "source": [
    "## 변수"
   ]
  },
  {
   "cell_type": "code",
   "execution_count": 9,
   "metadata": {},
   "outputs": [
    {
     "data": {
      "text/plain": [
       "'강아지'"
      ]
     },
     "execution_count": 9,
     "metadata": {},
     "output_type": "execute_result"
    }
   ],
   "source": [
    "animal=\"강아지\"\n",
    "animal"
   ]
  },
  {
   "cell_type": "code",
   "execution_count": 10,
   "metadata": {},
   "outputs": [
    {
     "data": {
      "text/plain": [
       "4"
      ]
     },
     "execution_count": 10,
     "metadata": {},
     "output_type": "execute_result"
    }
   ],
   "source": [
    "age=4\n",
    "age"
   ]
  },
  {
   "cell_type": "code",
   "execution_count": 12,
   "metadata": {},
   "outputs": [
    {
     "data": {
      "text/plain": [
       "('python', 'life')"
      ]
     },
     "execution_count": 12,
     "metadata": {},
     "output_type": "execute_result"
    }
   ],
   "source": [
    "\n",
    "a, b = 'python', 'life'\n",
    "a, b\n"
   ]
  },
  {
   "cell_type": "code",
   "execution_count": 13,
   "metadata": {},
   "outputs": [
    {
     "data": {
      "text/plain": [
       "('python', 'life')"
      ]
     },
     "execution_count": 13,
     "metadata": {},
     "output_type": "execute_result"
    }
   ],
   "source": [
    "[a, b] = ['python', 'life']\n",
    "a, b"
   ]
  },
  {
   "cell_type": "code",
   "execution_count": 14,
   "metadata": {},
   "outputs": [
    {
     "data": {
      "text/plain": [
       "('hello', 'hello')"
      ]
     },
     "execution_count": 14,
     "metadata": {},
     "output_type": "execute_result"
    }
   ],
   "source": [
    "a = b = 'hello'\n",
    "a, b"
   ]
  },
  {
   "attachments": {},
   "cell_type": "markdown",
   "metadata": {},
   "source": [
    "- 변수 삭제"
   ]
  },
  {
   "cell_type": "code",
   "execution_count": 15,
   "metadata": {},
   "outputs": [],
   "source": [
    "del(a)"
   ]
  },
  {
   "cell_type": "code",
   "execution_count": 16,
   "metadata": {},
   "outputs": [
    {
     "ename": "NameError",
     "evalue": "name 'a' is not defined",
     "output_type": "error",
     "traceback": [
      "\u001b[1;31m---------------------------------------------------------------------------\u001b[0m",
      "\u001b[1;31mNameError\u001b[0m                                 Traceback (most recent call last)",
      "\u001b[1;32m~\\AppData\\Local\\Temp/ipykernel_36980/2167009006.py\u001b[0m in \u001b[0;36m<module>\u001b[1;34m\u001b[0m\n\u001b[1;32m----> 1\u001b[1;33m \u001b[0ma\u001b[0m\u001b[1;33m\u001b[0m\u001b[1;33m\u001b[0m\u001b[0m\n\u001b[0m",
      "\u001b[1;31mNameError\u001b[0m: name 'a' is not defined"
     ]
    }
   ],
   "source": [
    "a"
   ]
  },
  {
   "attachments": {},
   "cell_type": "markdown",
   "metadata": {},
   "source": [
    "- python 특징"
   ]
  },
  {
   "cell_type": "code",
   "execution_count": 20,
   "metadata": {},
   "outputs": [
    {
     "data": {
      "text/plain": [
       "('python', 'life')"
      ]
     },
     "execution_count": 20,
     "metadata": {},
     "output_type": "execute_result"
    }
   ],
   "source": [
    "a, b = 'python', 'life'\n",
    "a, b"
   ]
  },
  {
   "cell_type": "code",
   "execution_count": 21,
   "metadata": {},
   "outputs": [
    {
     "data": {
      "text/plain": [
       "('life', 'python')"
      ]
     },
     "execution_count": 21,
     "metadata": {},
     "output_type": "execute_result"
    }
   ],
   "source": [
    "a, b = b, a  # 변수값 서로 변경\n",
    "a, b"
   ]
  },
  {
   "cell_type": "code",
   "execution_count": 25,
   "metadata": {},
   "outputs": [
    {
     "name": "stdout",
     "output_type": "stream",
     "text": [
      "[1, 4, 3]\n",
      "[1, 4, 3]\n",
      "1554278245440\n",
      "True\n"
     ]
    }
   ],
   "source": [
    "A = [1, 2, 3]\n",
    "B = A\n",
    "A[1] = 4\n",
    "print(A)\n",
    "print(B)  # [1, 4, 3]\n",
    "print(id(A))  # print(id(b))와 같은 주소값\n",
    "print(A is B)  # True\n"
   ]
  },
  {
   "cell_type": "code",
   "execution_count": 26,
   "metadata": {},
   "outputs": [
    {
     "name": "stdout",
     "output_type": "stream",
     "text": [
      "[1, 4, 3]\n",
      "[1, 2, 3]\n",
      "1554278244608\n"
     ]
    }
   ],
   "source": [
    "a = [1, 2, 3]\n",
    "b = a.copy()\n",
    "a[1] = 4\n",
    "print(a)   # [1, 4, 3]\n",
    "print(b)   # [1, 2, 3] \n",
    "print(id(a))   # pirnt(id(b))와 다른 주소값"
   ]
  },
  {
   "cell_type": "code",
   "execution_count": 27,
   "metadata": {},
   "outputs": [
    {
     "ename": "SyntaxError",
     "evalue": "invalid syntax (Temp/ipykernel_36980/2766496749.py, line 1)",
     "output_type": "error",
     "traceback": [
      "\u001b[1;36m  File \u001b[1;32m\"C:\\Users\\samuel\\AppData\\Local\\Temp/ipykernel_36980/2766496749.py\"\u001b[1;36m, line \u001b[1;32m1\u001b[0m\n\u001b[1;33m    123a = 123\u001b[0m\n\u001b[1;37m       ^\u001b[0m\n\u001b[1;31mSyntaxError\u001b[0m\u001b[1;31m:\u001b[0m invalid syntax\n"
     ]
    }
   ],
   "source": [
    "123a = 123  # 숫자, 특수기호로 시작 X  /  공백 X  /  특수문자는 언더바(_)만 허용"
   ]
  },
  {
   "attachments": {},
   "cell_type": "markdown",
   "metadata": {},
   "source": [
    "- Keyword (파이썬의 예약어, 변수 X)\n",
    "<Br>\n",
    "False / None / True / and / as / assert / break / class / continue / def / del / elif / else / except / finally / for / from / global / if / import / in / is / lambda / nonlocal / not / or / pass / raise / return / try / while / with / yield"
   ]
  },
  {
   "attachments": {},
   "cell_type": "markdown",
   "metadata": {},
   "source": [
    "# 2_주석"
   ]
  },
  {
   "cell_type": "code",
   "execution_count": 31,
   "metadata": {},
   "outputs": [],
   "source": [
    "# [ Ctrl ] + [ / ]\n",
    "# '''가나다'''\n",
    "# \"\"\"가나다\"\"\""
   ]
  },
  {
   "attachments": {},
   "cell_type": "markdown",
   "metadata": {},
   "source": [
    "# 3_연산자"
   ]
  },
  {
   "attachments": {},
   "cell_type": "markdown",
   "metadata": {},
   "source": [
    "## 산술 연산자"
   ]
  },
  {
   "cell_type": "code",
   "execution_count": 32,
   "metadata": {},
   "outputs": [
    {
     "name": "stdout",
     "output_type": "stream",
     "text": [
      "2\n",
      "2\n",
      "10\n",
      "3.0\n"
     ]
    }
   ],
   "source": [
    "print(1+1)  # 더하기\n",
    "print(4-2)  # 빼기\n",
    "print(5*2)  # 곱하기\n",
    "print(6/2)  # 나누기"
   ]
  },
  {
   "cell_type": "code",
   "execution_count": 33,
   "metadata": {},
   "outputs": [
    {
     "name": "stdout",
     "output_type": "stream",
     "text": [
      "8\n",
      "3\n",
      "2\n"
     ]
    }
   ],
   "source": [
    "print(2**3)  # 제곱\n",
    "print(10//3)  # 몫\n",
    "print(5%3)  # 나머지"
   ]
  },
  {
   "attachments": {},
   "cell_type": "markdown",
   "metadata": {},
   "source": [
    "## 대입 연산자"
   ]
  },
  {
   "cell_type": "code",
   "execution_count": 35,
   "metadata": {},
   "outputs": [
    {
     "name": "stdout",
     "output_type": "stream",
     "text": [
      "6\n"
     ]
    }
   ],
   "source": [
    "number = 4\n",
    "number += 2   # 다른 연산자도 가능 \n",
    "print(number)"
   ]
  },
  {
   "attachments": {},
   "cell_type": "markdown",
   "metadata": {},
   "source": [
    "## 비교(관계) 연산자"
   ]
  },
  {
   "cell_type": "code",
   "execution_count": 36,
   "metadata": {},
   "outputs": [
    {
     "name": "stdout",
     "output_type": "stream",
     "text": [
      "False\n",
      "True\n",
      "False\n",
      "True\n"
     ]
    }
   ],
   "source": [
    "print(3>5)\n",
    "print(3<5)\n",
    "print(3>=5)\n",
    "print(3<=5)"
   ]
  },
  {
   "cell_type": "code",
   "execution_count": 38,
   "metadata": {},
   "outputs": [
    {
     "name": "stdout",
     "output_type": "stream",
     "text": [
      "True\n",
      "True\n",
      "False\n",
      "False\n",
      "True\n"
     ]
    }
   ],
   "source": [
    "print(3>2>1)\n",
    "print(3 == 3)\n",
    "print(3 != 3)\n",
    "print(a is b)\n",
    "print(a is not b)\n",
    "# in / not in\n"
   ]
  },
  {
   "attachments": {},
   "cell_type": "markdown",
   "metadata": {},
   "source": [
    "## 논리 연산자"
   ]
  },
  {
   "cell_type": "code",
   "execution_count": 39,
   "metadata": {},
   "outputs": [
    {
     "name": "stdout",
     "output_type": "stream",
     "text": [
      "True\n",
      "True\n",
      "True\n",
      "True\n",
      "True\n"
     ]
    }
   ],
   "source": [
    "print((3>0) and (3<5))\n",
    "print((3>0) & (3<5))\n",
    "print((3>0) or (3<5))\n",
    "print((3>0) | (3<5))\n",
    "print(not (5>10))   # 단항 인산자"
   ]
  },
  {
   "cell_type": "code",
   "execution_count": 42,
   "metadata": {},
   "outputs": [
    {
     "name": "stdout",
     "output_type": "stream",
     "text": [
      "True\n",
      "False\n",
      "True\n",
      "False\n"
     ]
    }
   ],
   "source": [
    "a = \"raAqbdDD\"\n",
    "print(a[2].isupper())  # 대문자인지\n",
    "print(a[2].islower())  # 소문자인지\n",
    "print(a.isalpha())  # 모두 문자인지\n",
    "print(a.isdigit())  # 모두 숫자인지"
   ]
  },
  {
   "attachments": {},
   "cell_type": "markdown",
   "metadata": {},
   "source": [
    "## 문자열 연산자"
   ]
  },
  {
   "cell_type": "code",
   "execution_count": 43,
   "metadata": {},
   "outputs": [
    {
     "name": "stdout",
     "output_type": "stream",
     "text": [
      "파이썬재밌어\n",
      "파이썬 파이썬\n",
      "파이썬파이썬파이썬\n"
     ]
    }
   ],
   "source": [
    "print('파이썬'+'재밌어')\n",
    "print('파이썬', '파이썬')\n",
    "print('파이썬'*3)"
   ]
  },
  {
   "attachments": {},
   "cell_type": "markdown",
   "metadata": {},
   "source": [
    "## 숫자처리 함수"
   ]
  },
  {
   "cell_type": "code",
   "execution_count": 44,
   "metadata": {},
   "outputs": [
    {
     "name": "stdout",
     "output_type": "stream",
     "text": [
      "5\n",
      "16\n",
      "3\n",
      "5\n",
      "1\n"
     ]
    }
   ],
   "source": [
    "print(abs(-5))  # 절대값\n",
    "print(pow(4,2))  # 제곱\n",
    "print(round(3.14))  # 반올림\n",
    "print(max(1,3,5))  # 최대값 / 리스트, 튜플 가능\n",
    "print(min(1,3,5))  # 최소값 / 리스트, 튜플 가능\n",
    "# print(sum[list])   # 리스트만 가능, 튜플 불가"
   ]
  },
  {
   "cell_type": "code",
   "execution_count": 49,
   "metadata": {},
   "outputs": [
    {
     "name": "stdout",
     "output_type": "stream",
     "text": [
      "3\n",
      "4\n",
      "4.0\n"
     ]
    }
   ],
   "source": [
    "from math import *\n",
    "#  https://docs.python.org/3/library/math.html\n",
    "print(floor(3.14))  # 내림\n",
    "print(ceil(3.14))  # 올림\n",
    "print(sqrt(16))  # 제곱근"
   ]
  },
  {
   "attachments": {},
   "cell_type": "markdown",
   "metadata": {},
   "source": [
    "## 랜덤 함수"
   ]
  },
  {
   "cell_type": "code",
   "execution_count": 50,
   "metadata": {},
   "outputs": [
    {
     "name": "stdout",
     "output_type": "stream",
     "text": [
      "0.6269080709583998\n",
      "4.902503347157933\n",
      "8\n",
      "1\n",
      "7\n",
      "8\n"
     ]
    }
   ],
   "source": [
    "from random import *\n",
    "print(random())  # 0.0~1.0미만 랜덤값\n",
    "print(random()*10)  # 0.0~10.0미만 랜덤값\n",
    "print(int(random()*10))  # 0~10미만 정수 랜덤값\n",
    "print(randrange(0,10))  # 0~10미만 정수 랜덤값\n",
    "print(int(random()*10) +1)  # 1~10이하 정수 랜덤값\n",
    "print(randint(1,10))  # 1~10이하 정수 랜덤값\n",
    "# print(random.choice(list))   # 리스트 중에서 1개 선택\n",
    "# print(random.sample(list, n))   # 리스트 중에서 n개 선택\n",
    "# random.shuffle(list)   # 리스트 섞기 (print > None , list 필요)\n"
   ]
  },
  {
   "attachments": {},
   "cell_type": "markdown",
   "metadata": {},
   "source": [
    "# 4_문자열 처리"
   ]
  },
  {
   "attachments": {},
   "cell_type": "markdown",
   "metadata": {},
   "source": [
    "## 슬라이싱\n",
    "- index : 0부터 시작 !!!"
   ]
  },
  {
   "cell_type": "code",
   "execution_count": 2,
   "metadata": {},
   "outputs": [
    {
     "name": "stdout",
     "output_type": "stream",
     "text": [
      "성별: 1\n",
      "월: 11\n",
      "생년월일: 941110\n",
      "뒤7자리: 1234567\n",
      "중간중간: 41013\n",
      "941110\n"
     ]
    }
   ],
   "source": [
    "jumin=\"941110-1234567\"\n",
    "print(\"성별: \" + jumin[7])  # Indexing\n",
    "print(\"월: \" + jumin[2:4])\n",
    "print(\"생년월일: \" + jumin[:6])  # 미만\n",
    "print(\"뒤7자리: \" + jumin[-7:])\n",
    "print(\"중간중간: \" + jumin[ 1:10:2])\n",
    "print(jumin[ : jumin.index(\"-\") ])  # 특정 글자까지"
   ]
  },
  {
   "attachments": {},
   "cell_type": "markdown",
   "metadata": {},
   "source": [
    "## 문자열 처리 함수"
   ]
  },
  {
   "cell_type": "code",
   "execution_count": 15,
   "metadata": {},
   "outputs": [
    {
     "name": "stdout",
     "output_type": "stream",
     "text": [
      "PYTHON IS AMAZING.\n",
      "python is amazing.\n",
      "Python Is Amazing.\n"
     ]
    }
   ],
   "source": [
    "python=\"Python is Amazing.\"\n",
    "print(python.upper())  # 모두 대문자\n",
    "print(python.lower())  # 모두 소문자\n",
    "print(python.title())  # 문자열 각 단어의 첫글자만 대문자로 바꾸고, 나머지는 소문자"
   ]
  },
  {
   "cell_type": "code",
   "execution_count": 16,
   "metadata": {},
   "outputs": [
    {
     "name": "stdout",
     "output_type": "stream",
     "text": [
      "18\n",
      "Java is Amazing.\n"
     ]
    }
   ],
   "source": [
    "print(len(python))  # 문자열 길이\n",
    "print(python.replace(\"Python\",\"Java\"))  # 글자 바꾸기"
   ]
  },
  {
   "cell_type": "code",
   "execution_count": 17,
   "metadata": {},
   "outputs": [
    {
     "name": "stdout",
     "output_type": "stream",
     "text": [
      "5\n",
      "5\n",
      "15\n",
      "15\n"
     ]
    }
   ],
   "source": [
    "# 글자 위치값 찾기 (처음값)\n",
    "print(python.index(\"n\"))\n",
    "print(python.find(\"n\"))\n",
    "\n",
    "# 글자 위치값 찾기 (특정 위치부터)\n",
    "print(python.index(\"n\",7))\n",
    "print(python.find(\"n\",7))"
   ]
  },
  {
   "cell_type": "code",
   "execution_count": 18,
   "metadata": {},
   "outputs": [
    {
     "name": "stdout",
     "output_type": "stream",
     "text": [
      "-1\n"
     ]
    }
   ],
   "source": [
    "# find vs index : find는 없는 값 \"-1\"로 인출 / index는 error\n",
    "# print(python.index(\"j\"))  # error\n",
    "print(python.find(\"j\"))  # -1"
   ]
  },
  {
   "cell_type": "code",
   "execution_count": 19,
   "metadata": {},
   "outputs": [
    {
     "name": "stdout",
     "output_type": "stream",
     "text": [
      "2\n"
     ]
    }
   ],
   "source": [
    "# 해당 글자 카운팅\n",
    "print(python.count(\"n\"))"
   ]
  },
  {
   "cell_type": "code",
   "execution_count": 23,
   "metadata": {},
   "outputs": [
    {
     "name": "stdout",
     "output_type": "stream",
     "text": [
      "P/y/t/h/o/n/ /i/s/ /A/m/a/z/i/n/g/.\n",
      "['Python ', 's Amaz', 'ng.']\n"
     ]
    }
   ],
   "source": [
    "# 구분자로 낱문자 단위 구분\n",
    "print('/'.join(python))  # 모두 문자열이어야 함\n",
    "\n",
    "# 구분자 경계로 구분\n",
    "print(python.split('i'))"
   ]
  },
  {
   "cell_type": "code",
   "execution_count": 26,
   "metadata": {},
   "outputs": [
    {
     "data": {
      "text/plain": [
       "'Python is Amazing.'"
      ]
     },
     "execution_count": 26,
     "metadata": {},
     "output_type": "execute_result"
    }
   ],
   "source": [
    "python"
   ]
  },
  {
   "cell_type": "code",
   "execution_count": 30,
   "metadata": {},
   "outputs": [
    {
     "name": "stdout",
     "output_type": "stream",
     "text": [
      "   Pyth  on is Amazing.   \n",
      "Pyth  on is Amazing.\n",
      "Pyth  on is Amazing.   \n",
      "   Pyth  on is Amazing.\n",
      "1  \n",
      "  1\n",
      "001\n"
     ]
    }
   ],
   "source": [
    "# 공백 제거(좌우/좌/우)\n",
    "python =  '   Pyth  on is Amazing.   '\n",
    "print(python)\n",
    "print(python.strip())\n",
    "print(python.lstrip())\n",
    "print(python.rstrip())\n",
    "\n",
    "# 3칸 공간 확보 후 그 안에서 정렬(좌/우)\n",
    "print(\"1\".ljust(3))\n",
    "print(\"1\".rjust(3))\n",
    "\n",
    "# 3칸 공간 확보 후 빈 공간 '0'으로 채우기\n",
    "print(\"1\".zfill(3))\n"
   ]
  },
  {
   "attachments": {},
   "cell_type": "markdown",
   "metadata": {},
   "source": [
    "## 문자열 포맷팅"
   ]
  },
  {
   "cell_type": "code",
   "execution_count": 33,
   "metadata": {},
   "outputs": [
    {
     "name": "stdout",
     "output_type": "stream",
     "text": [
      "나는 20살입니다.\n",
      "나는 파이썬을 좋아해요.\n",
      "나는 파랑색과 빨강색을 좋아해요.\n",
      "1 / 3 = 0.33 %입니다.\n"
     ]
    }
   ],
   "source": [
    "# 방법1\n",
    "print(\"나는 %d살입니다.\" %20)  # %d : 정수\n",
    "print(\"나는 %s을 좋아해요.\" %\"파이썬\")  #  %s : 문자열\n",
    "print(\"나는 %s색과 %s색을 좋아해요.\" %(\"파랑\",\"빨강\"))\n",
    "\n",
    "num1 = 1\n",
    "num2 = 3\n",
    "print(\"1 / 3 = %3.2f %%입니다.\" %(num1 / num2))  # %자리수.소수점자리수f, 실수 다른 문자 연속"
   ]
  },
  {
   "cell_type": "code",
   "execution_count": 34,
   "metadata": {},
   "outputs": [
    {
     "name": "stdout",
     "output_type": "stream",
     "text": [
      "나는 파랑색과 빨강색을 좋아해요.\n",
      "나는 빨강색과 파랑색을 좋아해요.\n",
      "나는 20살이며, 빨강색을 좋아해요.\n"
     ]
    }
   ],
   "source": [
    "# 방법2\n",
    "print(\"나는 {}색과 {}색을 좋아해요.\" .format(\"파랑\",\"빨강\"))\n",
    "print(\"나는 {1}색과 {0}색을 좋아해요.\" .format(\"파랑\",\"빨강\"))\n",
    "print(\"나는 {age}살이며, {color}색을 좋아해요.\" .format(age=20, color=\"빨강\"))"
   ]
  },
  {
   "cell_type": "code",
   "execution_count": 35,
   "metadata": {},
   "outputs": [
    {
     "name": "stdout",
     "output_type": "stream",
     "text": [
      "나는 20살이며, 빨강색을 좋아해요.\n"
     ]
    }
   ],
   "source": [
    "# 방법3\n",
    "age = 20\n",
    "color=\"빨강\"\n",
    "print(f\"나는 {age}살이며, {color}색을 좋아해요.\")\n"
   ]
  },
  {
   "attachments": {},
   "cell_type": "markdown",
   "metadata": {},
   "source": [
    "## 탈출문자"
   ]
  },
  {
   "cell_type": "code",
   "execution_count": 37,
   "metadata": {},
   "outputs": [
    {
     "name": "stdout",
     "output_type": "stream",
     "text": [
      "백문이 불여일견 \n",
      "백견이 불여일타\n",
      "저는 '나도코딩' 입니다.\n",
      ":\\Users\\user\\Desktop\\Python work space\n",
      "C:\\Users\\Nadocoding\\Desktop\\PythonWorkspace>\n",
      "PineApple\n",
      "RedApple\n",
      "1분단\t2분단\n"
     ]
    }
   ],
   "source": [
    "print(\"백문이 불여일견 \\n백견이 불여일타\")  # 줄바꿈\n",
    "print(\"저는 \\'나도코딩\\' 입니다.\")  # 문장 안에서 따옴표 사용\n",
    "print(\":\\\\Users\\\\user\\\\Desktop\\\\Python work space\")  # 문장 안에서 역슬래시\n",
    "print(r\"C:\\Users\\Nadocoding\\Desktop\\PythonWorkspace>\")  # 문자열 그대로 출력\n",
    "print(\"Red Apple\\rPine\")  # 커서 맨 앞으로 이동 후 [insert]상태로 입력\n",
    "print(\"Redd\\bApple\")  #백스페이스\n",
    "print(\"1분단\\t2분단\")  # 탭\n"
   ]
  },
  {
   "attachments": {},
   "cell_type": "markdown",
   "metadata": {},
   "source": [
    "# Quiz"
   ]
  },
  {
   "cell_type": "code",
   "execution_count": null,
   "metadata": {},
   "outputs": [],
   "source": [
    "# 퀴즈 1:\n",
    "# 아래와 같이 3줄로 글자를 출력하는 4가지 방법은?\n",
    "'''\n",
    "파이썬\n",
    "파이썬\n",
    "파이썬\n",
    "'''\n",
    "\n",
    "# 방법1\n",
    "print('파이썬')\n",
    "print('파이썬')\n",
    "print('파이썬')\n",
    "print('*'*30)\n",
    "\n",
    "# 방법2 : \\n 이스케이프\n",
    "print('파이썬\\n'*3)\n",
    "print('*'*30)\n",
    "\n",
    "# 방법3\n",
    "print('파이썬\\n파이썬\\n파이썬')\n",
    "print('*'*30)\n",
    "\n",
    "# 방법4\n",
    "multiLine = '''파이썬\n",
    "파이썬\n",
    "파이썬\n",
    "'''\n",
    "print(multiLine)\n",
    "print('*'*30)\n",
    "\n",
    "\n",
    "# 퀴즈 2\n",
    "# 홍길동 씨의 과목별 점수는 다음과 같다.\n",
    "# 홍길동 씨의 평균 점수를 소숫점 둘째자리까지 출력하여라\n",
    "'''\n",
    "국어 : 86\n",
    "영어 : 77\n",
    "수학 : 55\n",
    "평균 : ?\n",
    "'''\n",
    "\n",
    "class1 = 86\n",
    "class2 = 77\n",
    "class3 = 55\n",
    "print('국어 : ', class1)\n",
    "print('영어 : ', class2)\n",
    "print('수학 : ', class3)\n",
    "print('평균 : ', (class1+class2+class3)/3)\n",
    "print('평균 :  %.2f' % ((class1+class2+class3)/3) )\n",
    "print('*'*30)\n",
    "\n",
    "# 퀴즈 3\n",
    "# 변수 a,b를 입력문(input)을 이용하여 데이터를 저장한다.\n",
    "# == 을 이용하여 a,b 가 같은지 True, False 로\n",
    "# 출력하여라\n",
    "'''\n",
    "a값 입력 => 10\n",
    "b값 입력 => 10\n",
    "True\n",
    "'''\n",
    "\n",
    "# a = input('a ? ')\n",
    "# b = input('b ? ')\n",
    "# print(a == b)\n",
    "# print('*'*30)\n",
    "\n",
    "\n",
    "# 퀴즈 4\n",
    "# 2개의 숫자를 입력받아\n",
    "# 사칙연산의 결과물을 출력하여라\n",
    "# 출력시 % 포맷 형식 이용\n",
    "\n",
    "'''\n",
    "첫번째 숫자를 입력하세요? 34\n",
    "두번째 숫자를 입력하세요? 56\n",
    "\n",
    "결과 :\n",
    "34 + 56 = ?\n",
    "34 - 56 = ?\n",
    "34 * 56 = ?\n",
    "34 / 56 = ?\n",
    "\n",
    "'''\n",
    "# num1 = int(input('첫번째 숫자를 입력하세요... '))\n",
    "# num2 = int(input('두번째 숫자를 입력하세요... '))\n",
    "# print('-'*50)\n",
    "# print(num1, '+', num2, '=', int(num1)+int(num2))\n",
    "# print(num1, '+', num2, '=', num1+num2)\n",
    "# print(num1, '-', num2, '=', num1-num2)\n",
    "# print(num1, '*', num2, '=', num1*num2)\n",
    "# print(num1, '/', num2, '=', num1/num2)\n",
    "# print('-'*50)\n",
    "# print('%d + %d = %d' % (num1, num2, num1+num2))\n",
    "# print('%d - %d = %d' % (num1, num2, num1-num2))\n",
    "# print('%d X %d = %d' % (num1, num2, num1*num2))\n",
    "# print('%d / %d = %.2f' % (num1, num2, num1/num2))\n",
    "\n",
    "\n",
    "\n",
    "# 퀴즈 5\n",
    "# 홍길동씨의 주민등록번호는 881120-1068234\n",
    "# 연월일과 숫자 부분을 나누어서 출력하여라.\n",
    "# 문자열 슬라이싱 기능 이용\n",
    "'''\n",
    "연월일 : 881120\n",
    "숫자 : 1068234\n",
    "'''\n",
    "\n",
    "pin = '881120-1068234'\n",
    "# yyyymmdd = pin[0:6]\n",
    "yyyymmdd = pin[:6]\n",
    "num = pin[7:]\n",
    "print('연월일 : ',yyyymmdd)\n",
    "print('숫자 : ',num)\n",
    "\n",
    "print('*'*30)\n",
    "\n",
    "\n",
    "\n",
    "# 퀴즈 6\n",
    "# 2개의 변수를 정의하고 아래와 같이 출력한다.\n",
    "# format 또는 % 또는 f'' 이용\n",
    "\n",
    "'''\n",
    "movie1 = '알라딘'\n",
    "movie2 = '스파이더맨'\n",
    "\n",
    "--------------\n",
    "오늘의 영화 => 스파이더맨 , 알라딘\n",
    "\n",
    "'''\n",
    "\n",
    "movie1 = '알라딘'\n",
    "movie2 = '스파이더맨'\n",
    "print('오늘의 영화 : {} : {}'.format(movie2,movie1))\n",
    "print('오늘의 영화 : %s, %s' % (movie2, movie1))\n",
    "print(f'오늘의 영화 : {movie2}, {movie1}')\n",
    "\n",
    "print('-'*30)\n",
    "\n",
    "\n",
    "# 퀴즈 7\n",
    "# 아래와 같이 변수를 지정하고\n",
    "# humidity = 82\n",
    "# temperature = 1.878\n",
    "# % 포맷, format(), f' 포맷 3가지 방식을 이용하여 다음과 같이 출력하여라\n",
    "\n",
    "'''\n",
    "오늘의 날씨 : 맑음, 습도 82%, 현재기온 -1.9\n",
    "'''\n",
    "\n",
    "humidity = 82\n",
    "temperature = 1.878\n",
    "\n",
    "print('오늘의 날씨 : 맑음, 습도 %d %%, 현재기온 %.1f' % (humidity, temperature))\n",
    "print('오늘의 날씨 : 맑음, 습도 {0}%, 현재기온 {1:.1f}'.format(humidity, temperature))\n",
    "print(f'오늘의 날씨 : 맑음, 습도 {humidity}%, 현재기온 {temperature:.1f}')\n",
    "\n",
    "\n",
    "# 퀴즈 8\n",
    "# 10진수 형태로 값을 입력받아 8진수와 16진수로 출력하여라.\n",
    "# %, format(), f'' 이용)\n",
    "'''\n",
    "숫자 입력 => ??\n",
    "10 진수 => ? , 8 진수 =>  ?,  16 진수 => ?\n",
    "'''\n",
    "\n",
    "num = int(input('숫자 입력 => '))\n",
    "print('%d %o %x'%(num, num, num))\n",
    "print('{:d} {:o} {:x}'.format(num, num, num))\n",
    "print(f'{num} {num:o} {num:x}')"
   ]
  },
  {
   "cell_type": "code",
   "execution_count": null,
   "metadata": {},
   "outputs": [],
   "source": []
  },
  {
   "attachments": {},
   "cell_type": "markdown",
   "metadata": {},
   "source": [
    "# 5_집합형 자료형\n",
    "<table border=\"1\">\n",
    "<th>집합형 자료형</th>\n",
    "<th>CREATE</th>\n",
    "<th>READ</th>\n",
    "<th>UPDATE</th>\n",
    "<th>DELETE</th>\n",
    "\t<tr>\n",
    "\t\t<td>리스트</td>\n",
    "\t\t<td>[값]</td>\n",
    "\t\t<td>인덱싱, 슬라이싱</td>\n",
    "\t\t<td>O</td>\n",
    "\t\t<td>O</td>\n",
    "\t</tr>\n",
    "\t<tr>\n",
    "\t\t<td>딕셔너리</td>\n",
    "\t\t<td>{키:값}</td>\n",
    "\t\t<td>키 인덱싱</td>\n",
    "\t\t<td>O</td>\n",
    "\t\t<td>O</td>\n",
    "\t</tr>\n",
    "\t<tr>\n",
    "\t\t<td>튜플</td>\n",
    "\t\t<td>(값)</td>\n",
    "\t\t<td>인덱싱, 슬라이싱</td>\n",
    "\t\t<td>X</td>\n",
    "\t\t<td>X</td>\n",
    "\t</tr>\n",
    "\t<tr>\n",
    "\t\t<td>집합</td>\n",
    "\t\t<td>{값}</td>\n",
    "\t\t<td>X</td>\n",
    "\t\t<td>X</td>\n",
    "\t\t<td>O</td>\n",
    "\t</tr>\n",
    "</table>"
   ]
  },
  {
   "attachments": {},
   "cell_type": "markdown",
   "metadata": {},
   "source": [
    "## 리스트"
   ]
  },
  {
   "attachments": {},
   "cell_type": "markdown",
   "metadata": {},
   "source": [
    "- 리스트 생성"
   ]
  },
  {
   "cell_type": "code",
   "execution_count": 3,
   "metadata": {},
   "outputs": [
    {
     "name": "stdout",
     "output_type": "stream",
     "text": [
      "['유재석', '조세호', '박명수']\n",
      "['유재석', '조세호', '박명수', '하하']\n",
      "['유재석', '정형돈', '조세호', '박명수', '하하']\n"
     ]
    }
   ],
   "source": [
    "# 리스트 생성\n",
    "subway=[\"유재석\", \"조세호\", \"박명수\"]\n",
    "print(subway)\n",
    "\n",
    "# (끝에) 추가 (1개씩)\n",
    "subway.append(\"하하\")  \n",
    "print(subway)\n",
    "\n",
    "# (지정 위치에) 추가 (1개씩)\n",
    "subway.insert(1,\"정형돈\")  \n",
    "print(subway)"
   ]
  },
  {
   "cell_type": "code",
   "execution_count": 4,
   "metadata": {},
   "outputs": [
    {
     "name": "stdout",
     "output_type": "stream",
     "text": [
      "['유재석', '정형돈', '조세호', '박명수', '하하'] ['조세호', 20, True]\n",
      "['유재석', '정형돈', '조세호', '박명수', '하하', '조세호', 20, True] ['조세호', 20, True]\n",
      "['유재석', '정형돈', '조세호', '박명수', '하하', '조세호', 20, True, '노홍철', '정형돈'] ['조세호', 20, True]\n"
     ]
    }
   ],
   "source": [
    "mix_list=[\"조세호\", 20, True]  # 생성\n",
    "print(subway, mix_list)\n",
    "\n",
    "# 추가 (여러개씩)\n",
    "subway.extend(mix_list)\n",
    "print(subway, mix_list)\n",
    "\n",
    "subway.extend(['노홍철', '정형돈'])  \n",
    "print(subway, mix_list)"
   ]
  },
  {
   "cell_type": "code",
   "execution_count": 8,
   "metadata": {},
   "outputs": [
    {
     "name": "stdout",
     "output_type": "stream",
     "text": [
      "['유재석', '정형돈', '조세호', '박명수', '하하', '조세호', 20, True, '노홍철', '정형돈', '조세호', 20, True]\n",
      "['유재석', '정형돈', '조세호', '박명수', '하하', '조세호', 20, True, '노홍철', '정형돈', '유재석', '정형돈', '조세호', '박명수', '하하', '조세호', 20, True, '노홍철', '정형돈', '유재석', '정형돈', '조세호', '박명수', '하하', '조세호', 20, True, '노홍철', '정형돈']\n",
      "['유재석', '정형돈', '조세호', '박명수', '하하', '조세호', 20, True, '노홍철', '정형돈']\n"
     ]
    }
   ],
   "source": [
    "# 리스트 합   / 비파괴적 추가\n",
    "print(subway + mix_list)\n",
    "\n",
    "# 리스트 곱\n",
    "print(subway *3)\n",
    "\n",
    "# 복사\n",
    "list_copy = subway.copy()  \n",
    "print(list_copy) "
   ]
  },
  {
   "attachments": {},
   "cell_type": "markdown",
   "metadata": {},
   "source": [
    "- 리스트 수정"
   ]
  },
  {
   "cell_type": "code",
   "execution_count": 10,
   "metadata": {},
   "outputs": [
    {
     "name": "stdout",
     "output_type": "stream",
     "text": [
      "[100, 200, 300, 400, 500, 600, 700]\n",
      "['백', 200, 300, 400, 500, 600, 700]\n",
      "['백', '이백', '삼백', '사백', 500, 600, 700]\n",
      "['백', '이백', '삼백', 500, 600, 700]\n",
      "['백', '이', '백', 600, 700]\n"
     ]
    }
   ],
   "source": [
    "numList = [100, 200, 300, 400, 500, 600, 700]   # 생성\n",
    "print(numList)\n",
    "\n",
    "numList[0] = '백'\n",
    "print(numList)\n",
    "\n",
    "numList[1:4] = ['이백', '삼백', '사백']\n",
    "print(numList)\n",
    "\n",
    "numList[1:4] = ['이백', '삼백']    #numList[3] > 삭제\n",
    "print(numList)\n",
    "\n",
    "numList[1:4] = '이백'\n",
    "print(numList)"
   ]
  },
  {
   "attachments": {},
   "cell_type": "markdown",
   "metadata": {},
   "source": [
    "- 리스트 삭제"
   ]
  },
  {
   "cell_type": "code",
   "execution_count": 12,
   "metadata": {},
   "outputs": [
    {
     "name": "stdout",
     "output_type": "stream",
     "text": [
      "[100, 200, 300, 400, 500, 600, 700]\n",
      "400\n",
      "[100, 200, 300, 500, 600, 700]\n",
      "[100, 200, 700]\n"
     ]
    }
   ],
   "source": [
    "numList = [100, 200, 300, 400, 500, 600, 700]   # 생성\n",
    "print(numList)\n",
    "\n",
    "print(numList.pop(3))   # 인덱스 값 반환 및 삭제  /  1개씩  /  공백시 마지막 인자(-1)\n",
    "print(numList)\n",
    "\n",
    "del numList[2:5]   # 인덱스 값 삭제\n",
    "print(numList)"
   ]
  },
  {
   "cell_type": "code",
   "execution_count": 13,
   "metadata": {},
   "outputs": [
    {
     "name": "stdout",
     "output_type": "stream",
     "text": [
      "[100, 200, 300, 300, 400, 500, 600, 700]\n",
      "[100, 200, 300, 400, 500, 600, 700]\n",
      "[]\n"
     ]
    }
   ],
   "source": [
    "numList = [100, 200, 300, 300, 400, 500, 600, 700]   # 생성\n",
    "print(numList)\n",
    "\n",
    "numList.remove(300)   # 해당 값 삭제, 중복시 앞에부터 / 1개만\n",
    "print(numList)\n",
    "\n",
    "numList.clear()   # 리스트 아이템(원소, 요소) 전체 삭제\n",
    "print(numList)"
   ]
  },
  {
   "attachments": {},
   "cell_type": "markdown",
   "metadata": {},
   "source": [
    "- 리스트 정렬"
   ]
  },
  {
   "cell_type": "code",
   "execution_count": 15,
   "metadata": {},
   "outputs": [
    {
     "name": "stdout",
     "output_type": "stream",
     "text": [
      "[100, 200, 300, 300, 400, 500, 600, 700]\n",
      "[700, 600, 500, 400, 300, 300, 200, 100]\n",
      "[100, 200, 300, 300, 400, 500, 600, 700]\n",
      "[700, 600, 500, 400, 300, 300, 200, 100]\n"
     ]
    }
   ],
   "source": [
    "numList = [100, 200, 300, 300, 400, 500, 600, 700]   # 생성\n",
    "print(numList)\n",
    "\n",
    "print(list(reversed(numList)))   # 역순 / list 변환 필수\n",
    "\n",
    "numList.sort()   # 내림차순\n",
    "print(numList) \n",
    "\n",
    "numList.reverse()   # 오름차순\n",
    "print(numList) "
   ]
  },
  {
   "attachments": {},
   "cell_type": "markdown",
   "metadata": {},
   "source": [
    "- 중첩 리스트"
   ]
  },
  {
   "cell_type": "code",
   "execution_count": 16,
   "metadata": {},
   "outputs": [
    {
     "name": "stdout",
     "output_type": "stream",
     "text": [
      "list_a = [[1, 2, 3], [4, 5, 6], [7, 8, 9]]\n",
      "list_a[0] = [1, 2, 3]\n",
      "list_a[0][0] = 1\n"
     ]
    }
   ],
   "source": [
    "list_a = [[1,2,3],[4,5,6],[7,8,9]]\n",
    "\n",
    "print(f'list_a = {list_a}')\n",
    "print(f'list_a[0] = {list_a[0]}')\n",
    "print(f'list_a[0][0] = {list_a[0][0]}')"
   ]
  },
  {
   "attachments": {},
   "cell_type": "markdown",
   "metadata": {},
   "source": [
    "- list comprehension"
   ]
  },
  {
   "cell_type": "code",
   "execution_count": 87,
   "metadata": {},
   "outputs": [
    {
     "name": "stdout",
     "output_type": "stream",
     "text": [
      "['IRON MAN', 'THOR', 'I AM GROOT']\n"
     ]
    }
   ],
   "source": [
    "students = [ \"iron man\", \"Thor\", \"i am groot\" ]\n",
    "\n",
    "students = [ i.upper() for i in students ]\n",
    "\n",
    "print(students)"
   ]
  },
  {
   "cell_type": "code",
   "execution_count": 90,
   "metadata": {},
   "outputs": [
    {
     "name": "stdout",
     "output_type": "stream",
     "text": [
      "['IRON MAN', 'THOR', 'I AM GROOT']\n"
     ]
    }
   ],
   "source": [
    "students = [ \"iron man\", \"Thor\", \"i am groot\" ]\n",
    "students2 = []\n",
    "for i in students :\n",
    "\tstudents2.append(i.upper())\n",
    "print(students2)\n"
   ]
  },
  {
   "cell_type": "code",
   "execution_count": 89,
   "metadata": {},
   "outputs": [
    {
     "name": "stdout",
     "output_type": "stream",
     "text": [
      "[2, 4, 6, 8, 10, 12, 14, 16, 18, 3, 6, 9, 12, 15, 18, 21, 24, 27, 4, 8, 12, 16, 20, 24, 28, 32, 36, 5, 10, 15, 20, 25, 30, 35, 40, 45, 6, 12, 18, 24, 30, 36, 42, 48, 54, 7, 14, 21, 28, 35, 42, 49, 56, 63, 8, 16, 24, 32, 40, 48, 56, 64, 72, 9, 18, 27, 36, 45, 54, 63, 72, 81]\n"
     ]
    }
   ],
   "source": [
    "result = [ x*y for x in range(2, 10) for y in range(1, 10)]\n",
    "\n",
    "print(result)"
   ]
  },
  {
   "cell_type": "code",
   "execution_count": 91,
   "metadata": {},
   "outputs": [
    {
     "name": "stdout",
     "output_type": "stream",
     "text": [
      "[2, 4, 6, 8, 10, 12, 14, 16, 18, 3, 6, 9, 12, 15, 18, 21, 24, 27, 4, 8, 12, 16, 20, 24, 28, 32, 36, 5, 10, 15, 20, 25, 30, 35, 40, 45, 6, 12, 18, 24, 30, 36, 42, 48, 54, 7, 14, 21, 28, 35, 42, 49, 56, 63, 8, 16, 24, 32, 40, 48, 56, 64, 72, 9, 18, 27, 36, 45, 54, 63, 72, 81]\n"
     ]
    }
   ],
   "source": [
    "result = []\n",
    "for x in range(2, 10) :\n",
    "    for y in range(1, 10) :\n",
    "        result.append(x*y)\n",
    "        \n",
    "print(result)"
   ]
  },
  {
   "cell_type": "code",
   "execution_count": 92,
   "metadata": {},
   "outputs": [
    {
     "name": "stdout",
     "output_type": "stream",
     "text": [
      "[18, 36, 54, 72]\n"
     ]
    }
   ],
   "source": [
    "dan_9 = [9*i for i in range(1,10) if i%2 == 0]\n",
    "\n",
    "print(dan_9)"
   ]
  },
  {
   "cell_type": "code",
   "execution_count": 94,
   "metadata": {},
   "outputs": [
    {
     "name": "stdout",
     "output_type": "stream",
     "text": [
      "[18, 36, 54, 72]\n"
     ]
    }
   ],
   "source": [
    "dan_9 =[]\n",
    "for i in range(1,10) :\n",
    "\tif i%2 == 0 :\n",
    "\t\tdan_9.append(9*i)\n",
    "print(dan_9)"
   ]
  },
  {
   "attachments": {},
   "cell_type": "markdown",
   "metadata": {},
   "source": [
    "- enumerate"
   ]
  },
  {
   "cell_type": "code",
   "execution_count": 98,
   "metadata": {},
   "outputs": [
    {
     "name": "stdout",
     "output_type": "stream",
     "text": [
      "0 : 가\n",
      "1 : 나\n",
      "2 : 다\n",
      "3 : 라\n"
     ]
    }
   ],
   "source": [
    "for i, e in enumerate(['가','나','다','라']) :\n",
    "  print(\"{} : {}\".format(i, e))"
   ]
  },
  {
   "cell_type": "code",
   "execution_count": 99,
   "metadata": {},
   "outputs": [
    {
     "name": "stdout",
     "output_type": "stream",
     "text": [
      "(1, '파이썬')\n",
      "(2, 'MySQL')\n",
      "(3, 'HTML')\n"
     ]
    }
   ],
   "source": [
    "# tuple\n",
    "word_list = ['파이썬', 'MySQL', 'HTML']\n",
    "for i in enumerate(word_list, 1) :\n",
    "    print(i)\n"
   ]
  },
  {
   "cell_type": "code",
   "execution_count": 105,
   "metadata": {},
   "outputs": [
    {
     "name": "stdout",
     "output_type": "stream",
     "text": [
      "{1: '파이썬', 2: 'MySQL', 3: 'HTML'}\n"
     ]
    }
   ],
   "source": [
    "# dict\n",
    "word_list = ['파이썬', 'MySQL', 'HTML']\n",
    "\n",
    "word_dict = dict(enumerate(word_list, 1))\n",
    "print(word_dict)\n"
   ]
  },
  {
   "attachments": {},
   "cell_type": "markdown",
   "metadata": {},
   "source": [
    "## 딕셔너리"
   ]
  },
  {
   "attachments": {},
   "cell_type": "markdown",
   "metadata": {},
   "source": [
    "- 딕셔너리 생성\n",
    "    - key 중복 불가\n",
    "    - key 리스트, 딕셔너리 불가\n",
    "    - key 숫자, 문자열, 불, 튜플 가능"
   ]
  },
  {
   "cell_type": "code",
   "execution_count": 29,
   "metadata": {},
   "outputs": [
    {
     "name": "stdout",
     "output_type": "stream",
     "text": [
      "{3: '유재석', 100: '김태호'}\n",
      "{3: '유재석', 100: '김태호', 5: '조세호'}\n",
      "{3: '김종국', 100: '김태호', 5: '조세호'}\n"
     ]
    }
   ],
   "source": [
    "cabinet={3:\"유재석\", 100:\"김태호\"}   # 생성\n",
    "print(cabinet)\n",
    "\n",
    "cabinet[5]=\"조세호\"   # 없는 key값 > value값 추가\n",
    "print(cabinet)\n",
    "\n",
    "cabinet[3]=\"김종국\"   # 기존 key값 > value값 덮어쓰기\n",
    "print(cabinet)"
   ]
  },
  {
   "attachments": {},
   "cell_type": "markdown",
   "metadata": {},
   "source": [
    "- 딕셔너리 읽기"
   ]
  },
  {
   "cell_type": "code",
   "execution_count": 30,
   "metadata": {},
   "outputs": [
    {
     "name": "stdout",
     "output_type": "stream",
     "text": [
      "김종국\n",
      "김종국\n",
      "None\n"
     ]
    }
   ],
   "source": [
    "print(cabinet[3])\n",
    "print(cabinet.get(3))   # key값 > Value값  / cf. list는 익덱스값 입력\n",
    "# print(cabinet[7])  # 없는 key값 입력시 error\n",
    "print(cabinet.get(7))  # 없는 key값 입력시 None"
   ]
  },
  {
   "cell_type": "code",
   "execution_count": 31,
   "metadata": {},
   "outputs": [
    {
     "name": "stdout",
     "output_type": "stream",
     "text": [
      "dict_keys([3, 100, 5])\n",
      "dict_values(['김종국', '김태호', '조세호'])\n",
      "dict_items([(3, '김종국'), (100, '김태호'), (5, '조세호')])\n",
      "True\n"
     ]
    }
   ],
   "source": [
    "# key\n",
    "print(cabinet.keys())\n",
    "\n",
    "# value\n",
    "print(cabinet.values())  \n",
    "\n",
    "print(cabinet.items())  # 활용: for key, value in cabinet.items(): \n",
    "\n",
    "print(3 in cabinet)   # True or False"
   ]
  },
  {
   "attachments": {},
   "cell_type": "markdown",
   "metadata": {},
   "source": [
    "- 딕셔너리 삭제"
   ]
  },
  {
   "cell_type": "code",
   "execution_count": 32,
   "metadata": {},
   "outputs": [
    {
     "name": "stdout",
     "output_type": "stream",
     "text": [
      "{3: '김종국', 100: '김태호', 5: '조세호'}\n",
      "{100: '김태호', 5: '조세호'}\n",
      "{100: '김태호'}\n",
      "{}\n"
     ]
    }
   ],
   "source": [
    "print(cabinet)\n",
    "cabinet.pop(3)  # key값 삭제\n",
    "print(cabinet)\n",
    "\n",
    "del cabinet[5]  # key값 삭제\n",
    "print(cabinet)\n",
    "\n",
    "cabinet.clear() \n",
    "print(cabinet)"
   ]
  },
  {
   "attachments": {},
   "cell_type": "markdown",
   "metadata": {},
   "source": [
    "## 튜플\n",
    "- 여러 변수값 할당시 주로 사용"
   ]
  },
  {
   "attachments": {},
   "cell_type": "markdown",
   "metadata": {},
   "source": [
    "- 튜플 생성"
   ]
  },
  {
   "cell_type": "code",
   "execution_count": 35,
   "metadata": {},
   "outputs": [
    {
     "name": "stdout",
     "output_type": "stream",
     "text": [
      "('돈까스', '치즈까스')\n",
      "('김치볶음밥', '된장찌개')\n"
     ]
    }
   ],
   "source": [
    "menu1 = (\"돈까스\", \"치즈까스\")\n",
    "print(menu1)\n",
    "\n",
    "menu2 = \"김종\", \"된장찌개\"  # 괄호 생략 가능\n",
    "print(menu2)\n"
   ]
  },
  {
   "attachments": {},
   "cell_type": "markdown",
   "metadata": {},
   "source": [
    "- 튜플 읽기"
   ]
  },
  {
   "cell_type": "code",
   "execution_count": 36,
   "metadata": {},
   "outputs": [
    {
     "name": "stdout",
     "output_type": "stream",
     "text": [
      "돈까스\n"
     ]
    }
   ],
   "source": [
    "print(menu1[0])"
   ]
  },
  {
   "attachments": {},
   "cell_type": "markdown",
   "metadata": {},
   "source": [
    "- 튜플 추가"
   ]
  },
  {
   "cell_type": "code",
   "execution_count": 37,
   "metadata": {},
   "outputs": [
    {
     "name": "stdout",
     "output_type": "stream",
     "text": [
      "()\n",
      "('한국',)\n",
      "('한국', '독일', '싱가폴')\n"
     ]
    }
   ],
   "source": [
    "# 튜플은 수정, 삭제 불가 (del로 정의삭제는 가능)\n",
    "tu3 = ()\n",
    "print(tu3)\n",
    "\n",
    "tu3 += ('한국',)   # 요소 하나일 경우 쉼표 필수\n",
    "print(tu3)\n",
    "\n",
    "tu3 += ('독일', '싱가폴')\n",
    "print(tu3)"
   ]
  },
  {
   "attachments": {},
   "cell_type": "markdown",
   "metadata": {},
   "source": [
    "- 튜플 연산자"
   ]
  },
  {
   "cell_type": "code",
   "execution_count": 40,
   "metadata": {},
   "outputs": [
    {
     "name": "stdout",
     "output_type": "stream",
     "text": [
      "('돈까스', '치즈까스', '김치볶음밥', '된장찌개')\n",
      "('돈까스', '치즈까스', '돈까스', '치즈까스', '돈까스', '치즈까스', '돈까스', '치즈까스', '돈까스', '치즈까스')\n"
     ]
    }
   ],
   "source": [
    "print(menu1+menu2)\n",
    "print(menu1*5)"
   ]
  },
  {
   "attachments": {},
   "cell_type": "markdown",
   "metadata": {},
   "source": [
    "## 세트\n",
    "- 집합\n",
    "- 중복 안됨, 순서 random (인덱싱 불가)"
   ]
  },
  {
   "attachments": {},
   "cell_type": "markdown",
   "metadata": {},
   "source": [
    "- 세트 생성"
   ]
  },
  {
   "cell_type": "code",
   "execution_count": 42,
   "metadata": {},
   "outputs": [
    {
     "name": "stdout",
     "output_type": "stream",
     "text": [
      "{1, 2, 3}\n",
      "{1, 2, 3}\n",
      "{' ', '문', '대', '그', '글', '로', '열', '자'}\n"
     ]
    }
   ],
   "source": [
    "my_set = {1, 2, 3, 3, 3}\n",
    "print(my_set)\n",
    "\n",
    "my_set2 = set([1, 2, 3, 3, 3])\n",
    "print(my_set2)\n",
    "\n",
    "my_set3 = set('문자열 글자 그대로')\n",
    "print(my_set3)"
   ]
  },
  {
   "cell_type": "code",
   "execution_count": 43,
   "metadata": {},
   "outputs": [
    {
     "name": "stdout",
     "output_type": "stream",
     "text": [
      "{1, 2, 3, 4}\n",
      "{1, 2, 3, 4, 5, 6, 7}\n",
      "{1, 2, 3, 4, 5, 6, 7, '6', '5', '7'}\n"
     ]
    }
   ],
   "source": [
    "# 아이템 1개 추가\n",
    "my_set.add(4)   \n",
    "print(my_set)\n",
    "\n",
    "# 아이템 여러개 추가\n",
    "my_set.update([5, 6, 7])\n",
    "print(my_set)\n",
    "\n",
    "my_set.update('5', '6', '7')    \n",
    "print(my_set)"
   ]
  },
  {
   "attachments": {},
   "cell_type": "markdown",
   "metadata": {},
   "source": [
    "- 세트 연산"
   ]
  },
  {
   "cell_type": "code",
   "execution_count": 53,
   "metadata": {},
   "outputs": [
    {
     "name": "stdout",
     "output_type": "stream",
     "text": [
      "{'양세형', '유재석', '김태호'} {'유재석', '박명수'}\n",
      "{'유재석'}\n",
      "{'유재석'}\n",
      "{'유재석', '박명수', '양세형', '김태호'}\n",
      "{'유재석', '박명수', '양세형', '김태호'}\n",
      "{'양세형', '김태호'}\n",
      "{'양세형', '김태호'}\n",
      "{'양세형', '박명수', '김태호'}\n",
      "{'양세형', '박명수', '김태호'}\n"
     ]
    }
   ],
   "source": [
    "java = {'유재석', '김태호', '양세형'}\n",
    "python = set(['유재석', '박명수'])\n",
    "print(java, python)\n",
    "\n",
    "# 교집합\n",
    "print(java & python)\n",
    "print(java.intersection(python))   \n",
    "\n",
    "# 합집합\n",
    "print(java | python)\n",
    "print(java.union(python))\n",
    "\n",
    "# 차집합\n",
    "print(java - python)\n",
    "print(java.difference(python))\n",
    "\n",
    "# 대칭차집합\n",
    "print(java^python)\n",
    "print(java.symmetric_difference(python))   \n"
   ]
  },
  {
   "attachments": {},
   "cell_type": "markdown",
   "metadata": {},
   "source": [
    "- 세트 삭제"
   ]
  },
  {
   "cell_type": "code",
   "execution_count": 66,
   "metadata": {},
   "outputs": [
    {
     "name": "stdout",
     "output_type": "stream",
     "text": [
      "{'양세형', '유재석', '김태호'}\n",
      "{'유재석', '김태호'}\n",
      "{'유재석', '김태호'}\n",
      "set()\n"
     ]
    }
   ],
   "source": [
    "java = {'유재석', '김태호', '양세형'}\n",
    "print(java)\n",
    "\n",
    "java.remove('양세형')  # 아이템 없으면 error\n",
    "print(java)\n",
    "\n",
    "java.discard('양세형')   # 아이템 없어도 변화 없음\n",
    "print(java)\n",
    "\n",
    "java.clear()   # 아이템 전체 삭제  >  set()\n",
    "print(java)\n",
    "\n",
    "del java   # 정의 삭제 > 오류\n",
    "# print(java)  # error"
   ]
  },
  {
   "attachments": {},
   "cell_type": "markdown",
   "metadata": {},
   "source": [
    "## 자료구조의 변경"
   ]
  },
  {
   "cell_type": "code",
   "execution_count": 67,
   "metadata": {},
   "outputs": [
    {
     "name": "stdout",
     "output_type": "stream",
     "text": [
      "123\n",
      "123.123\n",
      "123\n",
      "True\n"
     ]
    }
   ],
   "source": [
    "print(int(123.123))\n",
    "print(float(123.123))\n",
    "print(str(123))\n",
    "print(bool('ab'))"
   ]
  },
  {
   "cell_type": "code",
   "execution_count": 72,
   "metadata": {},
   "outputs": [
    {
     "name": "stdout",
     "output_type": "stream",
     "text": [
      "<class 'str'>\n",
      "<class 'list'>\n",
      "<class 'dict'>\n",
      "<class 'tuple'>\n",
      "<class 'set'>\n"
     ]
    }
   ],
   "source": [
    "# type 확인\n",
    "test = str(123)\n",
    "print(type(test))\n",
    "\n",
    "subway=[\"유재석\", \"조세호\", \"박명수\"]\n",
    "print(type(subway))\n",
    "\n",
    "cabinet={3:\"유재석\", 100:\"김태호\"}\n",
    "print(type(cabinet))\n",
    "\n",
    "menu1 = (\"돈까스\", \"치즈까스\")\n",
    "print(type(menu1))\n",
    "\n",
    "my_set = {1, 2, 3, 3, 3}\n",
    "print(type(my_set))"
   ]
  },
  {
   "attachments": {},
   "cell_type": "markdown",
   "metadata": {},
   "source": [
    "# Quiz"
   ]
  },
  {
   "cell_type": "code",
   "execution_count": null,
   "metadata": {},
   "outputs": [],
   "source": [
    "# Quiz\n",
    "# 퀴즈1\n",
    "# a, b, c, d, e를 저장하는 튜플을 만들고 첫 번째 튜플값과\n",
    "# 마지막번째 튜플값을 출력하여라.\n",
    "\n",
    "myTuple = ('a', 'b', 'c', 'd', 'e')\n",
    "print('myTuple = {0}'.format(myTuple))\n",
    "print('myTuple[0] = {0}, myTuple[-1] = {1}'.format(myTuple[0], myTuple[-1]))\n",
    "\n",
    "\n",
    "\n",
    "# 퀴즈 2.\n",
    "# 다음 리스트에서 \"Apple\" 항목만 삭제하여라 :\n",
    "# [\"Banana\", \"Apple\", \"Orange\"]\n",
    "\n",
    "fruits = [\"Banana\", \"Apple\", \"Orange\"]\n",
    "print(f'fruits = {fruits}')\n",
    "fruits.remove(\"Apple\") # 값으로 삭제\n",
    "print(f'fruits = {fruits}')\n",
    "\n",
    "\n",
    "# 퀴즈 3.\n",
    "# 다음 튜플 데이터에서 'fun-coding0' 데이터를 첫번째에 추가하여라.\n",
    "# tupledata = ('fun-coding1', 'fun-coding2', 'fun-coding3')\n",
    "\n",
    "tupledata = ('fun-coding1', 'fun-coding2', 'fun-coding3')\n",
    "print(f'tupledata = {tupledata}')\n",
    "temp = list(tupledata)\n",
    "temp.insert(0, 'fun-coding0' )\n",
    "print(f'temp = {temp}')\n",
    "tupledata = tuple(temp)\n",
    "print(f'tupledata = {tupledata}')\n",
    "\n",
    "\n",
    "\n",
    "# 퀴즈4.\n",
    "# 다음 항목을 딕셔너리(dict)으로 선언하여라\n",
    "# : <성인 - 100000 , 청소년 - 70000 , 아동 - 30000>\n",
    "fare = {'성인':100000 , '청소년':70000 , '아동':30000}\n",
    "print(f'fare = {fare}')\n",
    "\n",
    "\n",
    "\n",
    "\n",
    "# 퀴즈5.\n",
    "# 4번 에서 선언한 dict 항목에 <소아 - 0> 항목을 추가하여라\n",
    "fare['소아'] = 0\n",
    "print(f'fare = {fare}')\n",
    "\n",
    "\n",
    "# 퀴즈6.\n",
    "# 5번의 딕셔너리(dict)에서 Key 항목만 리스트로 변경하고 정렬한 후\n",
    "# 튜플로 변경하여라.\n",
    "#  결과 => ('성인', '소아', '아동', '청소년')\n",
    "# keys(), list(), tuple(), sort()\n",
    "print(fare)\n",
    "temp = list(fare.keys())\n",
    "print(temp)\n",
    "temp.sort()\n",
    "print(temp)\n",
    "print('결과 => ' , tuple(temp))\n",
    "\n",
    "\n",
    "# 퀴즈 7.\n",
    "# number_list에서 중복 숫자를 제거한 후 리스트를 만들어서 출력하여라.\n",
    "#  number_list = [ 5, 1, 2, 2, 3,4, 5, 6, 7, 6, 7, 8, 9, 9, 10, 10 ]\n",
    "# 리스트 => 집합 => 리스트\n",
    "number_list = [ 5, 1, 2, 2, 3, 4, 5, 6, 7, 6, 7, 8, 9, 9, 10, 10 ]\n",
    "print('-'*20)\n",
    "print(number_list)\n",
    "temp = set(number_list)\n",
    "print(temp)\n",
    "print(list(temp))\n",
    "\n",
    "\n",
    "# 퀴즈 8.\n",
    "# 두 집합의 중복 값으로 리스트를 생성하여라.\n",
    "# set1 = { '쥬만치', '정글북', '타이타닉', '월E', 'ET' }\n",
    "# set2 = { '타이타닉', '아바타', '에일리언', '스타워즈', '쥬만치'}\n",
    "# & 연산자\n",
    "set1 = { '쥬만치', '정글북', '타이타닉', '월E', 'ET' }\n",
    "set2 = { '타이타닉', '아바타', '에일리언', '스타워즈', '쥬만치'}\n",
    "result = list(set1 & set2)\n",
    "print('-'*20)\n",
    "print(result)\n",
    "\n",
    "\n",
    "#퀴즈 9.\n",
    "# 8의 리스트를 다음과 같이 구분자 '/'를 이용한 문자열로 출력하여라.\n",
    "#  아이템1 / 아이템2 / ....\n",
    "print('-'*20)\n",
    "print( ' / '.join(result))\n",
    "\n",
    "\n",
    "# 퀴즈 10.\n",
    "# 빈 집합을 생성하고 값을 입력받아 집합의 원소를 삽입하여라.\n",
    "# 집합 원소의 갯수는 5개로 한다.(입력문+set)\n",
    "'''\n",
    " mySet = set() <class 'set'>\n",
    "첫번째 아이템 값 => 갈비탕 \n",
    "두번째 아이템 값 => 소머리국밥\n",
    "세번째 아이템 값 => 삼계탕\n",
    "네번째 아이템 값 => 순두부\n",
    "다섯번째 아이템 값 => 김치찌게\n",
    " mySet = {'김치찌게', '소머리국밥', '갈비탕 ', '순두부', '삼계탕'} <class 'set'>\n",
    "'''\n",
    "# 빈 집합 정의\n",
    "# mySet = set()\n",
    "# print('-'*20)\n",
    "# print( ' mySet ', mySet, type(mySet))\n",
    "# mySet.add(input('첫번째 아이템 값 => '))\n",
    "# mySet.add(input('두번째 아이템 값 => '))\n",
    "# mySet.add(input('세번째 아이템 값 => '))\n",
    "# mySet.add(input('네번째 아이템 값 => '))\n",
    "# mySet.add(input('다섯번째 아이템 값 => '))\n",
    "# print( ' mySet = ', mySet, type(mySet))\n",
    "\n",
    "\n",
    "# 퀴즈 11.\n",
    "# 아래와 같이 리스트를 정의하고 다음과 같이 출력하여라\n",
    "# foods = ['사과','망고','치즈케이크','쥬스']\n",
    "\n",
    "# 우리집 냉장고에는?  ['사과', '망고', '치즈케이크', '쥬스']\n",
    "# 동생이 사과를 먹었다\n",
    "# 우리집 냉장고에는?  ['망고', '치즈케이크', '쥬스']\n",
    "# 이모가 수박을 사오셨다.\n",
    "# 우리집 냉장고에는?  ['망고', '치즈케이크', '쥬스', '수박']\n",
    "# 동생 친구가 치즈케이크, 수박을 먹었다.\n",
    "# 우리집 냉장고에는?  ['망고', '쥬스']\n",
    "\n",
    "foods = ['사과','망고','치즈케이크','쥬스']\n",
    "print(f'우리집 냉장고에는? {foods}')\n",
    "# foods.remove('사과')\n",
    "print(f'동생이 {foods.pop(0)}를 먹었다')\n",
    "print(f'우리집 냉장고에는? {foods}')\n",
    "foods.append('수박')\n",
    "print(f'이모가 {foods[-1]}을 사오셨다.')\n",
    "print(f'우리집 냉장고에는? {foods}')\n",
    "print(f'동생 친구가 {foods[2]}, {foods[-1]}을 먹었다.')\n",
    "foods.remove('치즈케이크')\n",
    "foods.remove('수박')\n",
    "print(f'우리집 냉장고에는? {foods}')"
   ]
  },
  {
   "attachments": {},
   "cell_type": "markdown",
   "metadata": {},
   "source": [
    "# 6_조건문(if)"
   ]
  },
  {
   "cell_type": "code",
   "execution_count": 75,
   "metadata": {},
   "outputs": [
    {
     "name": "stdout",
     "output_type": "stream",
     "text": [
      "외투를 챙기세요.\n"
     ]
    }
   ],
   "source": [
    "temp = int(input(\"기온은 어때요?\"))\n",
    "\n",
    "if temp > 30 :\n",
    "    print(\"너무 더워요. 나가지 마세요.\")\n",
    "elif temp < 30 and temp >= 10 :\n",
    "    print(\"괜찮은 날씨예요.\")\n",
    "else : print(\"외투를 챙기세요.\")\n"
   ]
  },
  {
   "cell_type": "code",
   "execution_count": 76,
   "metadata": {},
   "outputs": [
    {
     "name": "stdout",
     "output_type": "stream",
     "text": [
      "success\n"
     ]
    }
   ],
   "source": [
    "score = 70\n",
    "if score >=60 :\n",
    "    message = 'success'\n",
    "else : message = 'failure'\n",
    "print(message)"
   ]
  },
  {
   "cell_type": "code",
   "execution_count": 77,
   "metadata": {},
   "outputs": [
    {
     "name": "stdout",
     "output_type": "stream",
     "text": [
      "success\n"
     ]
    }
   ],
   "source": [
    "score = 70\n",
    "message = 'success' if score >= 60 else 'failure'\n",
    "print(message)"
   ]
  },
  {
   "attachments": {},
   "cell_type": "markdown",
   "metadata": {},
   "source": [
    "# 7_반복문(for, while)"
   ]
  },
  {
   "cell_type": "code",
   "execution_count": 78,
   "metadata": {},
   "outputs": [
    {
     "name": "stdout",
     "output_type": "stream",
     "text": [
      "5050\n"
     ]
    }
   ],
   "source": [
    "result = 0\n",
    "cnt = 1\n",
    "while cnt <= 100 :\n",
    "\tresult += cnt\n",
    "\tcnt += 1\n",
    "print(result)"
   ]
  },
  {
   "cell_type": "code",
   "execution_count": 81,
   "metadata": {},
   "outputs": [
    {
     "name": "stdout",
     "output_type": "stream",
     "text": [
      "5050\n"
     ]
    }
   ],
   "source": [
    "result = 0\n",
    "\n",
    "for cnt in range(1,101) :\n",
    "    result += cnt\n",
    "\n",
    "print(result)"
   ]
  },
  {
   "cell_type": "code",
   "execution_count": 79,
   "metadata": {},
   "outputs": [
    {
     "name": "stdout",
     "output_type": "stream",
     "text": [
      "리스트의 최댓값은? 999\n"
     ]
    }
   ],
   "source": [
    "myNumList = [100, 200, 50, -30, 999, 10]\n",
    "temp = myNumList[0]\n",
    "cnt = 0\n",
    "while cnt < len(myNumList) :\n",
    "    if myNumList[cnt] > temp :\n",
    "        temp = myNumList[cnt]\n",
    "    cnt += 1\n",
    "print(f'리스트의 최댓값은? {temp}')"
   ]
  },
  {
   "cell_type": "code",
   "execution_count": 82,
   "metadata": {},
   "outputs": [
    {
     "name": "stdout",
     "output_type": "stream",
     "text": [
      "리스트의 최댓값은? 999\n"
     ]
    }
   ],
   "source": [
    "myNumList = [100, 200, 50, -30, 999, 10]\n",
    "temp = myNumList[0]\n",
    "\n",
    "for cnt in range(0,len(myNumList)) :\n",
    "    if myNumList[cnt] > temp :\n",
    "        temp = myNumList[cnt]\n",
    "    \n",
    "print(f'리스트의 최댓값은? {temp}')"
   ]
  },
  {
   "cell_type": "code",
   "execution_count": 80,
   "metadata": {},
   "outputs": [
    {
     "name": "stdout",
     "output_type": "stream",
     "text": [
      "    2단\n",
      "==========\n",
      "2 X 1 = 2\n",
      "2 X 2 = 4\n",
      "2 X 3 = 6\n",
      "2 X 4 = 8\n",
      "2 X 5 = 10\n",
      "2 X 6 = 12\n",
      "2 X 7 = 14\n",
      "2 X 8 = 16\n",
      "2 X 9 = 18\n",
      "    3단\n",
      "==========\n",
      "3 X 1 = 3\n",
      "3 X 2 = 6\n",
      "3 X 3 = 9\n",
      "3 X 4 = 12\n",
      "3 X 5 = 15\n",
      "3 X 6 = 18\n",
      "3 X 7 = 21\n",
      "3 X 8 = 24\n",
      "3 X 9 = 27\n",
      "    4단\n",
      "==========\n",
      "4 X 1 = 4\n",
      "4 X 2 = 8\n",
      "4 X 3 = 12\n",
      "4 X 4 = 16\n",
      "4 X 5 = 20\n",
      "4 X 6 = 24\n",
      "4 X 7 = 28\n",
      "4 X 8 = 32\n",
      "4 X 9 = 36\n",
      "    5단\n",
      "==========\n",
      "5 X 1 = 5\n",
      "5 X 2 = 10\n",
      "5 X 3 = 15\n",
      "5 X 4 = 20\n",
      "5 X 5 = 25\n",
      "5 X 6 = 30\n",
      "5 X 7 = 35\n",
      "5 X 8 = 40\n",
      "5 X 9 = 45\n",
      "    6단\n",
      "==========\n",
      "6 X 1 = 6\n",
      "6 X 2 = 12\n",
      "6 X 3 = 18\n",
      "6 X 4 = 24\n",
      "6 X 5 = 30\n",
      "6 X 6 = 36\n",
      "6 X 7 = 42\n",
      "6 X 8 = 48\n",
      "6 X 9 = 54\n",
      "    7단\n",
      "==========\n",
      "7 X 1 = 7\n",
      "7 X 2 = 14\n",
      "7 X 3 = 21\n",
      "7 X 4 = 28\n",
      "7 X 5 = 35\n",
      "7 X 6 = 42\n",
      "7 X 7 = 49\n",
      "7 X 8 = 56\n",
      "7 X 9 = 63\n",
      "    8단\n",
      "==========\n",
      "8 X 1 = 8\n",
      "8 X 2 = 16\n",
      "8 X 3 = 24\n",
      "8 X 4 = 32\n",
      "8 X 5 = 40\n",
      "8 X 6 = 48\n",
      "8 X 7 = 56\n",
      "8 X 8 = 64\n",
      "8 X 9 = 72\n",
      "    9단\n",
      "==========\n",
      "9 X 1 = 9\n",
      "9 X 2 = 18\n",
      "9 X 3 = 27\n",
      "9 X 4 = 36\n",
      "9 X 5 = 45\n",
      "9 X 6 = 54\n",
      "9 X 7 = 63\n",
      "9 X 8 = 72\n",
      "9 X 9 = 81\n"
     ]
    }
   ],
   "source": [
    "i = 2\n",
    "while i <= 9 :\n",
    "\tprint(f'{i:>5}단')\n",
    "\tprint('='*10)\n",
    "\tj = 1      # j 값 설정, 초기화\n",
    "\twhile j <= 9 :\n",
    "\t\tprint(f'{i} X {j} = {i*j}')\n",
    "\t\tj += 1\n",
    "\ti += 1"
   ]
  },
  {
   "cell_type": "code",
   "execution_count": 83,
   "metadata": {},
   "outputs": [
    {
     "name": "stdout",
     "output_type": "stream",
     "text": [
      "    2단\n",
      "==========\n",
      "2 X 1 = 2\n",
      "2 X 2 = 4\n",
      "2 X 3 = 6\n",
      "2 X 4 = 8\n",
      "2 X 5 = 10\n",
      "2 X 6 = 12\n",
      "2 X 7 = 14\n",
      "2 X 8 = 16\n",
      "2 X 9 = 18\n",
      "    3단\n",
      "==========\n",
      "3 X 1 = 3\n",
      "3 X 2 = 6\n",
      "3 X 3 = 9\n",
      "3 X 4 = 12\n",
      "3 X 5 = 15\n",
      "3 X 6 = 18\n",
      "3 X 7 = 21\n",
      "3 X 8 = 24\n",
      "3 X 9 = 27\n",
      "    4단\n",
      "==========\n",
      "4 X 1 = 4\n",
      "4 X 2 = 8\n",
      "4 X 3 = 12\n",
      "4 X 4 = 16\n",
      "4 X 5 = 20\n",
      "4 X 6 = 24\n",
      "4 X 7 = 28\n",
      "4 X 8 = 32\n",
      "4 X 9 = 36\n",
      "    5단\n",
      "==========\n",
      "5 X 1 = 5\n",
      "5 X 2 = 10\n",
      "5 X 3 = 15\n",
      "5 X 4 = 20\n",
      "5 X 5 = 25\n",
      "5 X 6 = 30\n",
      "5 X 7 = 35\n",
      "5 X 8 = 40\n",
      "5 X 9 = 45\n",
      "    6단\n",
      "==========\n",
      "6 X 1 = 6\n",
      "6 X 2 = 12\n",
      "6 X 3 = 18\n",
      "6 X 4 = 24\n",
      "6 X 5 = 30\n",
      "6 X 6 = 36\n",
      "6 X 7 = 42\n",
      "6 X 8 = 48\n",
      "6 X 9 = 54\n",
      "    7단\n",
      "==========\n",
      "7 X 1 = 7\n",
      "7 X 2 = 14\n",
      "7 X 3 = 21\n",
      "7 X 4 = 28\n",
      "7 X 5 = 35\n",
      "7 X 6 = 42\n",
      "7 X 7 = 49\n",
      "7 X 8 = 56\n",
      "7 X 9 = 63\n",
      "    8단\n",
      "==========\n",
      "8 X 1 = 8\n",
      "8 X 2 = 16\n",
      "8 X 3 = 24\n",
      "8 X 4 = 32\n",
      "8 X 5 = 40\n",
      "8 X 6 = 48\n",
      "8 X 7 = 56\n",
      "8 X 8 = 64\n",
      "8 X 9 = 72\n",
      "    9단\n",
      "==========\n",
      "9 X 1 = 9\n",
      "9 X 2 = 18\n",
      "9 X 3 = 27\n",
      "9 X 4 = 36\n",
      "9 X 5 = 45\n",
      "9 X 6 = 54\n",
      "9 X 7 = 63\n",
      "9 X 8 = 72\n",
      "9 X 9 = 81\n"
     ]
    }
   ],
   "source": [
    "for i in range(2,10) :\n",
    "    print(f'{i:>5}단')\n",
    "    print(\"=\"*10)\n",
    "\n",
    "    for j in range(1,10) :\n",
    "        print(f'{i} X {j} = {i*j}')"
   ]
  },
  {
   "attachments": {},
   "cell_type": "markdown",
   "metadata": {},
   "source": [
    "- continue / break"
   ]
  },
  {
   "cell_type": "code",
   "execution_count": 84,
   "metadata": {},
   "outputs": [
    {
     "name": "stdout",
     "output_type": "stream",
     "text": [
      "1, 책을 읽어봐.\n",
      "3, 책을 읽어봐.\n",
      "4, 책을 읽어봐.\n",
      "6, 책을 읽어봐.\n",
      "오늘 수업 여기까지, 7은 교무실로 따라와.\n"
     ]
    }
   ],
   "source": [
    "absent = [2, 5]\n",
    "no_book = [7, 9]\n",
    "\n",
    "for student in range(1, 11) :\n",
    "    if student in absent : \n",
    "        continue \n",
    "    elif student in no_book : #7\n",
    "        print(\"오늘 수업 여기까지, {}은 교무실로 따라와.\" .format(student))\n",
    "        break\n",
    "    print(\"{}, 책을 읽어봐.\" .format(student))"
   ]
  },
  {
   "attachments": {},
   "cell_type": "markdown",
   "metadata": {},
   "source": [
    "- pass / continue"
   ]
  },
  {
   "cell_type": "code",
   "execution_count": 85,
   "metadata": {},
   "outputs": [
    {
     "name": "stdout",
     "output_type": "stream",
     "text": [
      "1\n",
      "ready\n",
      "go\n",
      "2\n",
      "3\n",
      "4\n"
     ]
    }
   ],
   "source": [
    "for i in range(1,5) :\n",
    "    if i ==2 :\n",
    "        print('ready')\n",
    "        pass\n",
    "        print('go')\n",
    "    print(i)\n",
    "\n",
    "# why ‘pass’ is used\n",
    "class Temp() :\n",
    "    def function(self) :\n",
    "        pass\n",
    "# 빈 문장 쓸 수 없을 때"
   ]
  },
  {
   "cell_type": "code",
   "execution_count": 86,
   "metadata": {},
   "outputs": [
    {
     "name": "stdout",
     "output_type": "stream",
     "text": [
      "1\n",
      "ready\n",
      "3\n",
      "4\n"
     ]
    }
   ],
   "source": [
    "for i in range(1,5) :\n",
    "    if i ==2 :\n",
    "        print('ready')\n",
    "        continue\n",
    "        print('go')\n",
    "    print(i)"
   ]
  },
  {
   "attachments": {},
   "cell_type": "markdown",
   "metadata": {},
   "source": [
    "# Quiz"
   ]
  },
  {
   "cell_type": "code",
   "execution_count": null,
   "metadata": {},
   "outputs": [],
   "source": [
    "# 1. 다음과 같은 형태로 반복문을 이용하여 출력하여라.\n",
    "'''\n",
    "====================\n",
    "*\n",
    "* *\n",
    "* * *\n",
    "* * * *\n",
    "* * * * *\n",
    "====================\n",
    "        *\n",
    "      * *\n",
    "    * * *\n",
    "  * * * *\n",
    "* * * * *\n",
    "====================\n",
    "         *\n",
    "        * *\n",
    "       * * *\n",
    "      * * * *\n",
    "     * * * * *\n",
    "====================\n",
    "\n",
    "     * * * * *\n",
    "      * * * *\n",
    "       * * *\n",
    "        * *\n",
    "         *\n",
    "\n",
    "'''\n",
    "# 첫번째\n",
    "print('='*50)\n",
    "cnt = 1\n",
    "while cnt<=5:\n",
    "    print(\"* \"*cnt)\n",
    "    cnt += 1\n",
    "\n",
    "print('='*50)\n",
    "for i in range(1, 6):\n",
    "    print(\"* \" * i)\n",
    "\n",
    "# 2번째\n",
    "print('='*50)\n",
    "cnt = 1\n",
    "while cnt<=5:\n",
    "    print(f'{\"* \"*cnt:>10}')\n",
    "    cnt += 1\n",
    "\n",
    "\n",
    "# 3번째\n",
    "print('='*50)\n",
    "cnt = 1\n",
    "while cnt<=5:\n",
    "    print(f'{\"* \"*cnt:^20}')\n",
    "    cnt += 1\n",
    "\n",
    "print('='*50)\n",
    "for i in range (6):\n",
    "    print((\" \")*(5 - i), end='')\n",
    "    print((\" *\")*i)\n",
    "    i +=1\n",
    "\n",
    "# 4번째\n",
    "print('='*50)\n",
    "cnt = 5\n",
    "while cnt>0:\n",
    "    print(f'{\"* \"*cnt:^20}')\n",
    "    cnt -= 1\n",
    "\n",
    "print('='*50)\n",
    "for i in range(1, 6):\n",
    "    idx = []\n",
    "    star = ''\n",
    "    for j in range(i, 11-i, 2):\n",
    "        idx.append(j)\n",
    "    for x in range(1, 10):\n",
    "        if x in idx:\n",
    "            star += '*'\n",
    "        else:\n",
    "            star += ' '\n",
    "    print(star)\n",
    "\n",
    "\n",
    "\n",
    "# 2. bmi 값에 따라 다음과 같은 메세지를 출력하여라.\n",
    "'''\n",
    "# 키를 입력해주세요... 단위 cm...175\n",
    "# 체중을 입력해주세요... 단위 kg...67\n",
    "# bmi = 21.8776\n",
    "# ?\n",
    "'''\n",
    "\n",
    "\n",
    "# bmi 공식\n",
    "# k = 키(입력값) 단위 cm\n",
    "# w = 체중(입력값)\n",
    "# bmi = 체중(kg)/키(m)의제곱, 키의 단위는 미터(m)\n",
    "\n",
    "# bmi 값에 따라 출력되는 메세지\n",
    "# 고도 비만 : 35 보다 클 경우\n",
    "# 중등도 비만  : 30 - 35 미만\n",
    "# 경도 비만 : 25 - 30 미만\n",
    "# 과체중 : 23 - 25 미만\n",
    "# 정상 : 18.5 - 23 미만\n",
    "# 저체중 : 18.5 미만\n",
    "\n",
    "\n",
    "# t = int(input('키를 입력해주세요... 단위 cm...'))\n",
    "# w = int(input('체중을 입력해주세요... 단위 kg...'))\n",
    "# # 미터로 변경\n",
    "# t2 = t/100\n",
    "# # bmi = w/(t2*t2)\n",
    "# bmi = w/(t2**2)\n",
    "#\n",
    "# print( f'bmi = {bmi:.2f}' )\n",
    "#\n",
    "# if bmi>=35 :\n",
    "#     print('고도 비만')\n",
    "# if 30 <= bmi < 35 :\n",
    "#     print('중등도 비만')\n",
    "# if 25 <= bmi < 30 :\n",
    "#     print('경도 비만')\n",
    "# if 23 <= bmi < 25 :\n",
    "#     print('중등도 비만')\n",
    "# if 18.5 <= bmi < 23 :\n",
    "#     print('정상')\n",
    "# if bmi < 18.5 :\n",
    "#     print('저체중')\n",
    "\n",
    "\n",
    "\n",
    "\n",
    "# 3. 1~30까지 숫자중에서 3의 배수만 제외하고 출력하여라.\n",
    "cnt = 0\n",
    "while cnt < 30:\n",
    "    cnt += 1\n",
    "    if cnt%3 == 0:\n",
    "        continue\n",
    "    print(cnt, end=' ')\n",
    "\n",
    "\n",
    "\n",
    "# 4. 학점을 입력받아서 다음과 같은 메세지를 출력하여라.\n",
    "# score = float(input(\"학점 입력> \"))\n",
    "# if ~ elif ~ else 문 이용하여 메세지 출력\n",
    "#\n",
    "# 4.2 <= score <= 4.5 : 교수님의 사랑\n",
    "# 3.5 <= score < 4.2 : 현 체제의 수호자\n",
    "#  2.8 <= score < 3.5 : 일반인\n",
    "# 2.3 <= score < 2.8  : 일탈을 꿈꾸는 소시민\n",
    "# 2.3 미만 : 시대를 앞서가는 혁명의 씨앗\n",
    "#\n",
    "# '''\n",
    "# 학점 입력> 4.5\n",
    "#\n",
    "# score = 4.5   : 교수님의 사랑\n",
    "#\n",
    "# '''\n",
    "# print()\n",
    "# print('='*50)\n",
    "# score = float(input(\"학점 입력> \"))\n",
    "# if 4.2 <= score <= 4.5 :\n",
    "#     print(f'score = {score} : 교수님의 사랑')\n",
    "# elif 3.5 <= score < 4.2 :\n",
    "#     print(f'score = {score} : 현 체제의 수호자')\n",
    "# elif 2.8 <= score < 3.5 :\n",
    "#     print(f'score = {score} : 일반인')\n",
    "# elif 2.3 <= score < 2.8 :\n",
    "#     print(f'score = {score} : 일탈을 꿈꾸는 소시민')\n",
    "# elif 2.3 > score :\n",
    "#     print(f'score = {score} : 시대를 앞서가는 혁명의 씨앗')\n",
    "# else:\n",
    "#     print('입력 값이 올바르지 않습니다.')"
   ]
  },
  {
   "attachments": {},
   "cell_type": "markdown",
   "metadata": {},
   "source": [
    "# 8_함수 "
   ]
  },
  {
   "cell_type": "code",
   "execution_count": 2,
   "metadata": {},
   "outputs": [
    {
     "name": "stdout",
     "output_type": "stream",
     "text": [
      "새로운 계좌가 생성\n"
     ]
    }
   ],
   "source": [
    "def open_account() :\n",
    "    print(\"새로운 계좌가 생성\")\n",
    "\n",
    "open_account()"
   ]
  },
  {
   "cell_type": "code",
   "execution_count": 3,
   "metadata": {},
   "outputs": [
    {
     "name": "stdout",
     "output_type": "stream",
     "text": [
      "3번째 계좌\n"
     ]
    }
   ],
   "source": [
    "# parameter 입력\n",
    "def num_account(n) :\n",
    "    print(f'{n}번째 계좌')\n",
    "\n",
    "num_account(3)"
   ]
  },
  {
   "cell_type": "code",
   "execution_count": 5,
   "metadata": {},
   "outputs": [
    {
     "name": "stdout",
     "output_type": "stream",
     "text": [
      "(1, 2, 3, 4, 5, 6, 7, 8, 9, 10)\n"
     ]
    },
    {
     "data": {
      "text/plain": [
       "(1, 2, 3, 4, 5, 6, 7, 8, 9, 10)"
      ]
     },
     "execution_count": 5,
     "metadata": {},
     "output_type": "execute_result"
    }
   ],
   "source": [
    "# return : 함수 탈출\n",
    "def make_tuple10() :\n",
    "\tresult1 = list(range(1,11))\n",
    "\tresult2 = tuple(result1)\n",
    "\treturn result2\n",
    "\n",
    "print(make_tuple10())"
   ]
  },
  {
   "cell_type": "code",
   "execution_count": 7,
   "metadata": {},
   "outputs": [
    {
     "name": "stdout",
     "output_type": "stream",
     "text": [
      "5\n"
     ]
    }
   ],
   "source": [
    "def sum(a, b) :\n",
    "    result = a + b\n",
    "    return result\n",
    "\n",
    "print(sum(1, 4))"
   ]
  },
  {
   "cell_type": "code",
   "execution_count": 8,
   "metadata": {},
   "outputs": [
    {
     "name": "stdout",
     "output_type": "stream",
     "text": [
      "이름: 유재석\t나이: 17\t주 사용 언어: 파이썬\n"
     ]
    }
   ],
   "source": [
    "#기본값\n",
    "def profile(name, age=17, main_lang=\"파이썬\") :  # 기본값은 맨 뒤 인자에 설정\n",
    "    print(\"이름: {0}\\t나이: {1}\\t주 사용 언어: {2}\" .format(name, age, main_lang))\n",
    "\n",
    "profile(\"유재석\")     \n",
    "# profile() > error ; 최소 (인자 개수 – 기본값 개수)는 입력해야 함 "
   ]
  },
  {
   "cell_type": "code",
   "execution_count": 9,
   "metadata": {},
   "outputs": [
    {
     "name": "stdout",
     "output_type": "stream",
     "text": [
      "유재석 20 파이썬\n"
     ]
    }
   ],
   "source": [
    "#키워드값\n",
    "def profile(name, age, main_lang) :\n",
    "    print(name, age, main_lang)\n",
    "\n",
    "profile( main_lang=\"파이썬\", name=\"유재석\", age=20)"
   ]
  },
  {
   "attachments": {},
   "cell_type": "markdown",
   "metadata": {},
   "source": [
    "- 가변인자"
   ]
  },
  {
   "cell_type": "code",
   "execution_count": 10,
   "metadata": {},
   "outputs": [
    {
     "name": "stdout",
     "output_type": "stream",
     "text": [
      "이름: 유재석\t나이: 20\t Python Java C C++ C# JavaScript \n",
      "이름: 김태호\t나이: 25\t Kotlin Swift \n"
     ]
    }
   ],
   "source": [
    "# 가변인자 : 맨 뒤 인자에 설정\n",
    "# Keyword argument type: tuple\n",
    "def profile(name, age, *args) :\n",
    "    print(\"이름: {0}\\t나이: {1}\\t\" .format(name, age), end=\" \")\n",
    "    for i in args :\n",
    "        print(i, end=\" \")\n",
    "    print()\n",
    "\n",
    "profile(\"유재석\", 20, \"Python\", \"Java\", \"C\", \"C++\", \"C#\", \"JavaScript\")\n",
    "profile(\"김태호\", 25, \"Kotlin\", \"Swift\")"
   ]
  },
  {
   "cell_type": "code",
   "execution_count": 11,
   "metadata": {},
   "outputs": [
    {
     "name": "stdout",
     "output_type": "stream",
     "text": [
      "{'a': 100, 'b': 200} <class 'dict'>\n"
     ]
    }
   ],
   "source": [
    "# Keyword argument type: dict\n",
    "def make_dict(**kwargs) :\n",
    "   \t\tprint(kwargs, type(kwargs))\n",
    "\n",
    "make_dict(a=100, b=200)\n",
    "\n",
    "# !!! 순서: 일반 매개변수 – 가변 매개변수 – 기본 매개변수"
   ]
  },
  {
   "attachments": {},
   "cell_type": "markdown",
   "metadata": {},
   "source": [
    "- 지역변수, 전역변수"
   ]
  },
  {
   "cell_type": "code",
   "execution_count": 12,
   "metadata": {},
   "outputs": [
    {
     "name": "stdout",
     "output_type": "stream",
     "text": [
      "전체 총 : 10\n",
      "[함수 내] 남은 총 : 18\n",
      "남은 총 : 10\n"
     ]
    }
   ],
   "source": [
    "# 지역변수\n",
    "gun = 10\n",
    "\n",
    "def checkpoint(soldiers) :\n",
    "\tgun = 20\n",
    "\tgun = gun - soldiers\n",
    "\tprint('[함수 내] 남은 총 : {0}' .format(gun))\n",
    "\n",
    "print('전체 총 : {0}' .format(gun))\n",
    "checkpoint(2)\n",
    "print('남은 총 : {0}' .format(gun))\n",
    "\n",
    "# cf.  Immutable: 정수, 실수, 문자열, 튜플\n",
    "# Mutable: 리스트, 딕셔너리, 집합"
   ]
  },
  {
   "cell_type": "code",
   "execution_count": 13,
   "metadata": {},
   "outputs": [
    {
     "name": "stdout",
     "output_type": "stream",
     "text": [
      "전체 총 : 10\n",
      "[함수 내] 남은 총 : 8\n",
      "남은 총 : 8\n"
     ]
    }
   ],
   "source": [
    "# 전역변수\n",
    "gun = 10\n",
    "\n",
    "def checkpoint(soldiers) :\n",
    "    global gun\n",
    "    gun = gun - soldiers\n",
    "    print(\"[함수 내] 남은 총 : {0}\" .format(gun))\n",
    "\n",
    "print(\"전체 총 : {0}\".format(gun))\n",
    "checkpoint(2)\n",
    "print('남은 총 : {0}' .format(gun))"
   ]
  },
  {
   "cell_type": "code",
   "execution_count": 14,
   "metadata": {},
   "outputs": [
    {
     "name": "stdout",
     "output_type": "stream",
     "text": [
      "전체 총 : 10\n",
      "[함수 내] 남은 총 : 8\n",
      "남은 총 : 8\n"
     ]
    }
   ],
   "source": [
    "gun = 10\n",
    "\n",
    "def checkpoint_ret(gun, soldiers) :\n",
    "    gun = gun - soldiers\n",
    "    print(\"[함수 내] 남은 총 : {0}\" .format(gun))\n",
    "    return gun\n",
    "\n",
    "print(\"전체 총 : {0}\".format(gun))\n",
    "gun = checkpoint_ret(gun, 2)\n",
    "print('남은 총 : {0}' .format(gun))"
   ]
  },
  {
   "attachments": {},
   "cell_type": "markdown",
   "metadata": {},
   "source": [
    "- lambda"
   ]
  },
  {
   "cell_type": "code",
   "execution_count": 15,
   "metadata": {},
   "outputs": [
    {
     "name": "stdout",
     "output_type": "stream",
     "text": [
      "7\n"
     ]
    }
   ],
   "source": [
    "add = lambda a, b : a+b\n",
    "\n",
    "print(add(3,4))"
   ]
  },
  {
   "cell_type": "code",
   "execution_count": 16,
   "metadata": {},
   "outputs": [
    {
     "name": "stdout",
     "output_type": "stream",
     "text": [
      "안녕 0\n",
      "안녕 1\n",
      "안녕 2\n",
      "안녕 3\n",
      "안녕 4\n",
      "안녕 5\n",
      "안녕 6\n",
      "안녕 7\n",
      "안녕 8\n",
      "안녕 9\n"
     ]
    }
   ],
   "source": [
    "def call_10_times(func) :\n",
    "    for i in range(10) :\n",
    "        func(i)\n",
    "\n",
    "call_10_times(lambda num : print(\"안녕\", num))"
   ]
  },
  {
   "cell_type": "code",
   "execution_count": 19,
   "metadata": {},
   "outputs": [
    {
     "name": "stdout",
     "output_type": "stream",
     "text": [
      "안녕 0\n",
      "안녕 1\n",
      "안녕 2\n",
      "안녕 3\n",
      "안녕 4\n",
      "안녕 5\n",
      "안녕 6\n",
      "안녕 7\n",
      "안녕 8\n",
      "안녕 9\n"
     ]
    }
   ],
   "source": [
    "def call_10_times(func) :\n",
    "    for i in range(10) :\n",
    "        func(i)\n",
    "\n",
    "def print_hello(num) :\n",
    "    print(\"안녕\", num)\n",
    "\n",
    "call_10_times(print_hello)"
   ]
  },
  {
   "attachments": {},
   "cell_type": "markdown",
   "metadata": {},
   "source": [
    "# 9_표준입출력"
   ]
  },
  {
   "cell_type": "code",
   "execution_count": 20,
   "metadata": {},
   "outputs": [
    {
     "name": "stdout",
     "output_type": "stream",
     "text": [
      "Python vs Java?"
     ]
    }
   ],
   "source": [
    "# 콤마(separation) 값 변경, 끝 값 변경\n",
    "print(\"Python\", \"Java\", sep=\" vs \", end=\"?\")"
   ]
  },
  {
   "cell_type": "code",
   "execution_count": 21,
   "metadata": {},
   "outputs": [
    {
     "name": "stdout",
     "output_type": "stream",
     "text": [
      "Python Java\n"
     ]
    },
    {
     "name": "stderr",
     "output_type": "stream",
     "text": [
      "Python Java\n"
     ]
    }
   ],
   "source": [
    "# 로그 기록\n",
    "import sys  # 모듈을 가져와서 사용하겠다는 의미\n",
    "print(\"Python\", \"Java\", file=sys.stdout)  # 표준 출력\n",
    "print(\"Python\", \"Java\", file=sys.stderr)  # 표준 에러"
   ]
  },
  {
   "cell_type": "code",
   "execution_count": 27,
   "metadata": {},
   "outputs": [
    {
     "name": "stdout",
     "output_type": "stream",
     "text": [
      "      ****\n",
      "****      \n",
      "   ****   \n",
      "500_______\n",
      "+100,000,000^^^^^^^^^^^^^^^^^^\n",
      "      +500\n",
      "      -500\n",
      "100,000,000,000\n",
      "2.41\n",
      "52\n"
     ]
    }
   ],
   "source": [
    "# 왼쪽 여백\n",
    "print(\"{0:>10}\" .format(\"****\"))\n",
    "\n",
    "# 오른쪽 여백\n",
    "print(\"{0:<10}\" .format(\"****\"))\n",
    "\n",
    "# 좌우 여백\n",
    "print(\"{0:^10}\" .format(\"****\"))\n",
    "\n",
    "# 여백에 대체문자 반복\n",
    "print(\"{0:_<10}\".format(500))\n",
    "print(\"{0:^<+30,}\".format(100000000))\n",
    "\n",
    "# +, - 기호 표시\n",
    "print(\"{0: >+10}\".format(500))\n",
    "print(\"{0: >+10}\".format(-500))\n",
    "\n",
    "# 3자리마다 콤마\n",
    "print(\"{0:,}\".format(100000000000))\n",
    "\n",
    "# 전체 자리수, 소수점 자리수\n",
    "print('{0:3.2f}' .format(2.41421))\n",
    "\n",
    "# 소수점 제거\n",
    "print('{:g}' .format(52.0))"
   ]
  },
  {
   "attachments": {},
   "cell_type": "markdown",
   "metadata": {},
   "source": [
    "- 파일 입출력"
   ]
  },
  {
   "cell_type": "code",
   "execution_count": 29,
   "metadata": {},
   "outputs": [],
   "source": [
    "# 쓰기\n",
    "f = open(\"./score.txt\", \"w\", encoding=\"utf8\")  # 쓰기 목적으로 열기\n",
    "f.write('영어 : 100')  # 줄바꿈 X / 파일 없으면 생성 / 덮어 쓰기\n",
    "print(\"수학 : 100\", file=f)  # 쓰기 방법2 \n",
    "f.close()  # 파일 닫기"
   ]
  },
  {
   "cell_type": "code",
   "execution_count": 30,
   "metadata": {},
   "outputs": [],
   "source": [
    "# 이어쓰기\n",
    "f = open(\"score.txt\", \"a\", encoding=\"utf8\")  # 이어 쓰기 목적으로 열기\n",
    "f.write(\"과학 : 80\")  # 줄바꿈 X > \\n\n",
    "print(\"\\n코딩 : 100\", file=f) \n",
    "f.close()  # 파일 닫기"
   ]
  },
  {
   "cell_type": "code",
   "execution_count": 31,
   "metadata": {},
   "outputs": [
    {
     "name": "stdout",
     "output_type": "stream",
     "text": [
      "영어 : 100수학 : 100\n",
      "과학 : 80\n",
      "코딩 : 100\n",
      "\n"
     ]
    }
   ],
   "source": [
    "# 읽기\n",
    "f = open(\"score.txt\", \"r\", encoding=\"utf8\")  # 읽기 목적으로 열기\n",
    "print(f.read())  # 파일 전체 읽기\n",
    "f.close()"
   ]
  },
  {
   "cell_type": "code",
   "execution_count": 32,
   "metadata": {},
   "outputs": [
    {
     "name": "stdout",
     "output_type": "stream",
     "text": [
      "영어 : 100수학 : 100\n",
      "\n",
      "과학 : 80\n",
      "\n",
      "코딩 : 100\n",
      "\n"
     ]
    }
   ],
   "source": [
    "# 읽기\n",
    "f = open(\"score.txt\", \"r\", encoding=\"utf8\") \n",
    "for i in f.readlines() :  # 각 행 > 리스트\n",
    "    print(i)   \n",
    "f.close()"
   ]
  },
  {
   "cell_type": "code",
   "execution_count": 35,
   "metadata": {},
   "outputs": [
    {
     "name": "stdout",
     "output_type": "stream",
     "text": [
      "영어 : 100수학 : 100\n",
      "과학 : 80\n",
      "코딩 : 100\n"
     ]
    }
   ],
   "source": [
    "# 읽기\n",
    "f = open(\"score.txt\", \"r\", encoding=\"utf8\")\n",
    "while True : \n",
    "    line = f.readline()  # 한 줄 읽기\n",
    "    if not line :\n",
    "        break\n",
    "    print(line, end=\"\")  # 한 줄 읽고 커서는 다음 줄로 이동 > end=\"\" 처리\n",
    "f.close()"
   ]
  },
  {
   "attachments": {},
   "cell_type": "markdown",
   "metadata": {},
   "source": [
    "- with"
   ]
  },
  {
   "cell_type": "code",
   "execution_count": 36,
   "metadata": {},
   "outputs": [],
   "source": [
    "# 간단한 파일 입출력 (close 불필요)\n",
    "with open(\"study.txt\", \"w\", encoding=\"utf8\") as f :     # ‘a’도 마찬가지로 가능\n",
    "    f.write(\"파이썬을 열심히 공부하고 있어요.\")"
   ]
  },
  {
   "cell_type": "code",
   "execution_count": 37,
   "metadata": {},
   "outputs": [
    {
     "name": "stdout",
     "output_type": "stream",
     "text": [
      "파이썬을 열심히 공부하고 있어요.\n"
     ]
    }
   ],
   "source": [
    "with open(\"study.txt\", \"r\", encoding=\"utf8\") as f :\n",
    "    print(f.read())"
   ]
  },
  {
   "attachments": {},
   "cell_type": "markdown",
   "metadata": {},
   "source": [
    "# 10_클래스"
   ]
  },
  {
   "cell_type": "code",
   "execution_count": 39,
   "metadata": {},
   "outputs": [
    {
     "name": "stdout",
     "output_type": "stream",
     "text": [
      "이름 우유식빵\n",
      "가격 3300\n",
      "날짜 2021-09-03 AM 10:30\n",
      "브랜드 뚜레쥬르\n",
      "이름 모카빵\n",
      "가격 1500\n",
      "날짜 2021-09-02 PM 8:30\n",
      "브랜드 뚜레쥬르\n",
      " 주문 정보 => 우유식빵 를 6 개 주문\n",
      " 주문 가격 => 19800 \n",
      " 주문 정보 => 모카빵 를 3 개 주문\n",
      " 주문 가격 => 4500 \n"
     ]
    }
   ],
   "source": [
    "class Bread : \n",
    "    def __init__(self, kind, price, make_date) :  # 생성자 메서드 정의: 속성 정의\n",
    "        self.brand = '뚜레쥬르'  # 초기값이 있는 속성\n",
    "        self.__kind = kind  # 클래스 속성 앞 __입력시 변경, 외부 접근 금지\n",
    "        self.price = price\n",
    "        self.make_date = make_date\n",
    "\n",
    "    def info(self) :  # 정보 출력 메서드 정의\n",
    "        print(f'이름 {self.__kind}')     \n",
    "        print(f'가격 {self.price}')\n",
    "        print(f'날짜 {self.make_date}')\n",
    "        print(f'브랜드 {self.brand}')\n",
    "    \n",
    "    def price_info(self, n) :  # 가격 출력 메서드 정의 \n",
    "        print(f' 주문 정보 => {self.__kind} 를 {n} 개 주문')\n",
    "        print(f' 주문 가격 => {self.price*n} ')\n",
    "\n",
    "# Bread 클래스의 인스턴스 (객체화) > 인자 수일치\n",
    "bread1 = Bread('우유식빵', 3300, '2021-09-03 AM 10:30')\n",
    "bread2 = Bread('모카빵', 1500, '2021-09-02 PM 8:30')\n",
    "\n",
    "# 메서드 호출\n",
    "bread1.info()        \n",
    "bread2.info()\n",
    "bread1.price_info(6)\n",
    "bread2.price_info(3)\n"
   ]
  },
  {
   "attachments": {},
   "cell_type": "markdown",
   "metadata": {},
   "source": [
    "- 상속"
   ]
  },
  {
   "cell_type": "code",
   "execution_count": 41,
   "metadata": {},
   "outputs": [
    {
     "name": "stdout",
     "output_type": "stream",
     "text": [
      "김 철수\n",
      "아파트, 차\n",
      "삼성 주식, 오피스텔\n",
      "스쿠터\n",
      "부산\n",
      "의정부\n"
     ]
    }
   ],
   "source": [
    "class Papa :  # 부모 클래스 (=슈퍼 클래스, 조상 클래스)\n",
    "    first_name = '김'\n",
    "    def info1(self):\n",
    "        print('아파트, 차')\n",
    "    def city(self):\n",
    "        print('서울')\n",
    "\n",
    "class Mama :  # 부모 클래스2 \n",
    "    def info2(self):\n",
    "        print('삼성 주식, 오피스텔')\n",
    "    def city(self):\n",
    "        print('부산')\n",
    "    def hometown(self):\n",
    "        print('인천')\n",
    "\n",
    "class Child(Mama, Papa) :  # 자식 클래스 정의 / 메소드명 중복시 선언 순서에 따라\n",
    "    def __init__(self, name) :\n",
    "        self.name = name\n",
    "    def info3(self):\n",
    "        print('스쿠터')\n",
    "    def hometown(self) :  # 메서드 오버라이딩 : 부모클래스의 정의된 메서드를 재정의\n",
    "        print('의정부')\n",
    "    def hometown_mom(self) :  # 부모클래스의 메서드를 사용\n",
    "        super().hometown()\n",
    "\n",
    "# 객체화\n",
    "child1 = Child('철수')     \n",
    "child2 = Child('영희')\n",
    "\n",
    "print(child1.first_name, child1.name)     # 김 철수\n",
    "child1.info1()     # 아파트, 차 (Papa)\n",
    "child1.info2()     # 삼성 주식, 오피스텔 (Mama)\n",
    "child1.info3()     # 스쿠터 (self)\n",
    "\n",
    "child1.city()     # 부산 (Mama) / 부모 클래스간 메소드명 중복시 class선언 순서에 따라\n",
    "child1.hometown()     # 의정부   /  부모클래스와 메소드명 중복시 > 자식 클래스\n"
   ]
  },
  {
   "cell_type": "code",
   "execution_count": 42,
   "metadata": {},
   "outputs": [
    {
     "name": "stdout",
     "output_type": "stream",
     "text": [
      "True\n",
      "False\n"
     ]
    }
   ],
   "source": [
    "# 상속관계를 확인하는 메서드\n",
    "# issubclass(자식클래스명, 부모클래스명 ...)     \n",
    "print(issubclass(Child, Papa)) # True\n",
    "print(issubclass(Mama, Child)) # False"
   ]
  },
  {
   "cell_type": "code",
   "execution_count": 43,
   "metadata": {},
   "outputs": [
    {
     "name": "stdout",
     "output_type": "stream",
     "text": [
      "(<class '__main__.Mama'>, <class '__main__.Papa'>)\n"
     ]
    }
   ],
   "source": [
    "# 상속관계를 확인하는 속성\n",
    "# 클래스명.__bases__     \n",
    "print(Child.__bases__)  # (<class '__main__.Mama'>, <class '__main__.Papa'>)"
   ]
  },
  {
   "attachments": {},
   "cell_type": "markdown",
   "metadata": {},
   "source": [
    "# 11_예외처리"
   ]
  },
  {
   "attachments": {},
   "cell_type": "markdown",
   "metadata": {},
   "source": [
    "- try"
   ]
  },
  {
   "cell_type": "code",
   "execution_count": 44,
   "metadata": {},
   "outputs": [
    {
     "name": "stdout",
     "output_type": "stream",
     "text": [
      "나누기 전용 계산기입니다.\n",
      "알 수 없는 에러가 발생하였습니다.\n"
     ]
    }
   ],
   "source": [
    "try  :\n",
    "    print(\"나누기 전용 계산기입니다.\")\n",
    "    nums = []\n",
    "    nums.append(int(input(\"첫 번째 숫자를 입력하세요 : \")))\n",
    "    nums.append(int(input(\"두 번째 숫자를 입력하세요 : \")))\n",
    "    # nums.append(int(num[0] / num[1]))\n",
    "    print(\"{0} / {1} = {2}\".format(nums[0], nums[1], nums[2]))\n",
    "except ValueError :\n",
    "    print(\"에러! 잘못된 값을 입력하였습니다.\")\n",
    "except ZeroDivisionError as err :\n",
    "    print(err)\n",
    "except :       # 모든 에러에 대해서, 에러 코드 출력 불가 cf. except Exception as err\n",
    "    print(\"알 수 없는 에러가 발생하였습니다.\")"
   ]
  },
  {
   "attachments": {},
   "cell_type": "markdown",
   "metadata": {},
   "source": [
    "- 에러 발생시키기"
   ]
  },
  {
   "cell_type": "code",
   "execution_count": 45,
   "metadata": {},
   "outputs": [
    {
     "name": "stdout",
     "output_type": "stream",
     "text": [
      "한 자리 숫자 나누기 전용 계산기입니다.\n",
      "잘못된 값을 입력하였습니다. 한 자리 숫자만 입력하세요.\n"
     ]
    }
   ],
   "source": [
    "# 에러 발생시키기\n",
    "try :\n",
    "    print(\"한 자리 숫자 나누기 전용 계산기입니다.\")\n",
    "    num1 = int(input(\"첫 번째 숫자를 입력하세요: \"))\n",
    "    num2 = int(input(\"두 번째 숫자를 입력하세요: \"))\n",
    "    if num1 >= 10 or num2 >= 10: # 입력받은 수가 한 자리인지 확인\n",
    "        raise ValueError\n",
    "    print(\"{0} / {1} = {2}\".format(num1, num2, int(num1 / num2)))\n",
    "except ValueError :\n",
    "    print(\"잘못된 값을 입력하였습니다. 한 자리 숫자만 입력하세요.\")"
   ]
  },
  {
   "attachments": {},
   "cell_type": "markdown",
   "metadata": {},
   "source": [
    "- 사용자 정의 에러"
   ]
  },
  {
   "cell_type": "code",
   "execution_count": 49,
   "metadata": {},
   "outputs": [
    {
     "name": "stdout",
     "output_type": "stream",
     "text": [
      "예외가 발생했습니다. 3의 배수가 아닙니다.\n"
     ]
    }
   ],
   "source": [
    "class NotThreeMultipleError(Exception):    # Exception을 상속받아서 새로운 예외를 만듦\n",
    "    def __init__(self):\n",
    "        super().__init__('3의 배수가 아닙니다.')\n",
    " \n",
    "def three_multiple():\n",
    "    try:\n",
    "        x = int(input('3의 배수를 입력하세요: '))\n",
    "        if x % 3 != 0:                     # x가 3의 배수가 아니면\n",
    "            raise NotThreeMultipleError    # NotThreeMultipleError 예외를 발생시킴\n",
    "        print(x)\n",
    "    except Exception as e:\n",
    "        print('예외가 발생했습니다.', e)\n",
    " \n",
    "three_multiple()"
   ]
  },
  {
   "attachments": {},
   "cell_type": "markdown",
   "metadata": {},
   "source": [
    "- finally"
   ]
  },
  {
   "cell_type": "code",
   "execution_count": 51,
   "metadata": {},
   "outputs": [
    {
     "name": "stdout",
     "output_type": "stream",
     "text": [
      "에러발생 => [Errno 2] No such file or directory: './123123.txt'\n",
      "테스트 종료: try...except...else...finally\n"
     ]
    }
   ],
   "source": [
    "try:\n",
    "    f = open('./123123.txt','r')\n",
    "except Exception as err :  # 모든 에러에 대해서, 에러 코드 출력\n",
    "    print(f'에러발생 => {err}')\n",
    "else:  # 에러가 아닐 경우\n",
    "    data = f.readline()\n",
    "    print(data)\n",
    "    f.close()\n",
    "finally:  # 무조건 실행\n",
    "    print('테스트 종료: try...except...else...finally')\n"
   ]
  },
  {
   "attachments": {},
   "cell_type": "markdown",
   "metadata": {},
   "source": [
    "# 11_기타"
   ]
  },
  {
   "attachments": {},
   "cell_type": "markdown",
   "metadata": {},
   "source": [
    "- 모듈, 패키지"
   ]
  },
  {
   "cell_type": "code",
   "execution_count": null,
   "metadata": {},
   "outputs": [],
   "source": [
    "# 모듈 : 파일명.py\n",
    "# 패키지 : 모듈 모아놓은 폴더(디렉토리)\n",
    "\n",
    "# import 파일명\n",
    "# 파일명.함수()\n",
    "\n",
    "# import 파일명 as f\n",
    "# f.함수()\t\n",
    "\n",
    "# from 파일명 import *\n",
    "# 함수()\n",
    "\n",
    "# import 패키지명.모듈명     # 클래스, 함수 불가 / as 사용 가능\n",
    "# 변수 = 패키지명.모듈명.클래스명()\n",
    "# 변수.함수명()\n",
    "\n",
    "# from 패키지명.모듈명 import 클래스명\n",
    "# 변수 = 패키지명()\n",
    "# 변수.함수명()"
   ]
  },
  {
   "cell_type": "code",
   "execution_count": null,
   "metadata": {},
   "outputs": [],
   "source": [
    "# # __all__\n",
    "# # __init__.py     # 해당 폴더를 패키지용으로 정의\n",
    "# __all__ = [\"파일명\"]     # 파일명.py 모듈 공개\n",
    "\n",
    "# from 패키지명 import *\n",
    "# 변수 = 모듈명.클래스명()\n",
    "# 변수.함수명()        # __init__.py  >  __all__ = [“파일명”]  >  없으면 오류"
   ]
  },
  {
   "cell_type": "code",
   "execution_count": 52,
   "metadata": {},
   "outputs": [
    {
     "name": "stdout",
     "output_type": "stream",
     "text": [
      "Thailand 모듈을 직접 실행\n",
      "[태국 패키지 3박 5일] 방콕, 파타야 여행 (야시장 투어) 50만원\n"
     ]
    }
   ],
   "source": [
    "# 모듈 직접 실행\n",
    "class ThailandPackage:\n",
    "    def detail(self):\n",
    "        print(\"[태국 패키지 3박 5일] 방콕, 파타야 여행 (야시장 투어) 50만원\")\n",
    "        \n",
    "if __name__ == \"__main__\" :    # 모듈 직접 실행\n",
    "    print(\"Thailand 모듈을 직접 실행\")\n",
    "    trip_to = ThailandPackage()\n",
    "    trip_to.detail()\n",
    "else:     # 외부에서 모듈 호출\n",
    "    print(\"Thailand 외부에서 모듈 호출\")"
   ]
  },
  {
   "cell_type": "code",
   "execution_count": 53,
   "metadata": {},
   "outputs": [
    {
     "name": "stdout",
     "output_type": "stream",
     "text": [
      "c:\\ProgramData\\Anaconda3\\lib\\random.py\n"
     ]
    }
   ],
   "source": [
    "# 패키지, 모듈 위치\n",
    "import inspect\n",
    "import random\n",
    "print(inspect.getfile(random))     # random 모듈의 위치"
   ]
  },
  {
   "attachments": {},
   "cell_type": "markdown",
   "metadata": {},
   "source": [
    "- 설치"
   ]
  },
  {
   "cell_type": "code",
   "execution_count": null,
   "metadata": {},
   "outputs": [],
   "source": [
    "# pip install\n",
    "# https://pypi.org/\n",
    "# TERMINAL > pip list     # 현재 설치돼있는 패키지 확인\n",
    "# TERMINAL > pip show 패키지명     # 패키지 설명\n",
    "# TERMINAL > pip install –upgrade 패키지명     # 패키지 업그레이드\n",
    "# TERMINAL > pip uninstall 패키지명     # 패키지 삭제"
   ]
  },
  {
   "attachments": {},
   "cell_type": "markdown",
   "metadata": {},
   "source": [
    "- 내장함수\n",
    "    - import 필요 없는 함수\n",
    "    - https://docs.python.org/3/library/functions.html"
   ]
  },
  {
   "cell_type": "code",
   "execution_count": 54,
   "metadata": {},
   "outputs": [
    {
     "name": "stdout",
     "output_type": "stream",
     "text": [
      "<built-in function dir>\n"
     ]
    }
   ],
   "source": [
    "# dir   # 어떤 객체를 넘겨줬을 때 그 객체가 어떤 변수와 함수를 가지고 있는지 표시\n",
    "print(dir)     # 사용 예시 1\n",
    "# print(dir(lst))    # 사용 예시 2\n"
   ]
  },
  {
   "cell_type": "code",
   "execution_count": 55,
   "metadata": {},
   "outputs": [
    {
     "name": "stdout",
     "output_type": "stream",
     "text": [
      "<zip object at 0x000001BDBC2C1540>\n",
      "('길동', '남')\n",
      "('동미', '여')\n",
      "('미영', '여')\n",
      "('영철', '남')\n",
      "길동 남\n",
      "동미 여\n",
      "미영 여\n",
      "영철 남\n"
     ]
    }
   ],
   "source": [
    "# zip   # 다른 두 리스트의 각 아이템 요소 > 튜플\n",
    "p1 = ['길동','동미','미영','영철']\n",
    "p2 = ['남','여','여','남']\n",
    "print(zip(p1, p2))\n",
    "for i in zip(p1, p2) :\n",
    "    print(i)\n",
    "for i, j in zip(p1, p2) :\n",
    "    print(i, j)"
   ]
  },
  {
   "cell_type": "code",
   "execution_count": 56,
   "metadata": {},
   "outputs": [
    {
     "name": "stdout",
     "output_type": "stream",
     "text": [
      "[100, 56, 90, 234, -88]\n"
     ]
    }
   ],
   "source": [
    "# filter\n",
    "# filter(함수명, 리스트/튜플)\n",
    "num_list = [ 1, 100, 56, 89, 90, 234, -88 ]\n",
    "print(list(filter(lambda n : n%2 ==0, num_list)))"
   ]
  },
  {
   "cell_type": "code",
   "execution_count": 57,
   "metadata": {},
   "outputs": [
    {
     "name": "stdout",
     "output_type": "stream",
     "text": [
      "[1, 4, 16, 25, 49]\n"
     ]
    }
   ],
   "source": [
    "# map\n",
    "# map(함수명, 리스트/튜플)\n",
    "num_list = [ 1, 2, 4, 5, 7]\n",
    "print(list(map(lambda n:n**2, num_list)))"
   ]
  },
  {
   "attachments": {},
   "cell_type": "markdown",
   "metadata": {},
   "source": [
    "- 재귀함수"
   ]
  },
  {
   "cell_type": "code",
   "execution_count": 58,
   "metadata": {},
   "outputs": [
    {
     "name": "stdout",
     "output_type": "stream",
     "text": [
      "1\n"
     ]
    }
   ],
   "source": [
    "def factorial_1(n):\n",
    "    변수 = 1\n",
    "    for i in range(1, n+1) :\n",
    "        변수 *= i\n",
    "    return 변수\n",
    "\n",
    "print(factorial_1(1))"
   ]
  },
  {
   "cell_type": "code",
   "execution_count": 59,
   "metadata": {},
   "outputs": [
    {
     "name": "stdout",
     "output_type": "stream",
     "text": [
      "1\n"
     ]
    }
   ],
   "source": [
    "def factorial_2(n):\n",
    "    if n == 0:\n",
    "        return 1\n",
    "    else:\n",
    "        return n * factorial_2(n-1)\n",
    "\n",
    "print(factorial_2(1))"
   ]
  },
  {
   "cell_type": "code",
   "execution_count": 60,
   "metadata": {},
   "outputs": [
    {
     "name": "stdout",
     "output_type": "stream",
     "text": [
      "원본: [[1, 2, 3], [4, [5, 6]], 7, [8, 9]]\n",
      "변환: [1, 2, 3, 4, 5, 6, 7, 8, 9]\n"
     ]
    }
   ],
   "source": [
    "# 리스트 평탄화\n",
    "example = [[1,2,3], [4,[5,6]], 7, [8,9]]\n",
    "\n",
    "def flatten(data) :\n",
    "    output = []\n",
    "    for item in data :\n",
    "        if type(item) == list:\n",
    "            output += flatten(item)\n",
    "        else:\n",
    "            output += [item]\n",
    "    return output\n",
    "\n",
    "print('원본:', example)\n",
    "print('변환:', flatten(example))"
   ]
  },
  {
   "cell_type": "code",
   "execution_count": 62,
   "metadata": {},
   "outputs": [
    {
     "data": {
      "text/plain": [
       "55"
      ]
     },
     "execution_count": 62,
     "metadata": {},
     "output_type": "execute_result"
    }
   ],
   "source": [
    "# 피버나치 수열: f(n) = f(n-1) + f(n-2)\n",
    "def f(n):\n",
    "    if n == 1 or n == 2:\n",
    "        return 1\n",
    "    else:\n",
    "        return  f(n-1) + f(n-2)\n",
    "    \n",
    "f(10)"
   ]
  },
  {
   "attachments": {},
   "cell_type": "markdown",
   "metadata": {},
   "source": [
    "- 외장함수\n",
    "    - import 필요 \n",
    "    - https://docs.python.org/3/py-modindex.html"
   ]
  },
  {
   "cell_type": "code",
   "execution_count": 67,
   "metadata": {},
   "outputs": [
    {
     "name": "stdout",
     "output_type": "stream",
     "text": [
      "[]\n"
     ]
    }
   ],
   "source": [
    "import glob  # 경로 내의 폴더, 파일 목록 조회\n",
    "print(glob.glob(\"*.py\"))  # 확장자가 py인 모든 파일"
   ]
  },
  {
   "cell_type": "code",
   "execution_count": 69,
   "metadata": {},
   "outputs": [],
   "source": [
    "import os     # 운영체제에서 제공하는 기본 기능\n",
    "# print(os.getcwd())   # 현재 파일 위치(디렉토리)\n",
    "# print(os.listdir())   # 현재 폴더 안에 있는 파일 > 리스트\n",
    "# os.chdir('quiz')   # ‘quiz’ 폴더 들어가기\n",
    "# os.chdir('..')  # 상위 폴더(디렉토리)로 가기\n",
    "# os.path.exists('폴더명')   # ‘폴더명’ 폴더 있는지 > 불값\n",
    "# os.mkdir('newfolder')   # 폴더 생성\n",
    "# ls 폴더명   # 폴더 파일 확인\n"
   ]
  },
  {
   "cell_type": "code",
   "execution_count": 70,
   "metadata": {},
   "outputs": [
    {
     "name": "stdout",
     "output_type": "stream",
     "text": [
      "1684371119.102146\n",
      "time.struct_time(tm_year=2023, tm_mon=5, tm_mday=18, tm_hour=0, tm_min=51, tm_sec=59, tm_wday=3, tm_yday=138, tm_isdst=0)\n",
      "[2023, 5, 18, 9, 51, 59, 3, 138, 0]\n",
      "2023\n",
      "Thu May 18 09:51:59 2023\n",
      "May 18th Thursday 09:51\n",
      "2023-05-18\n"
     ]
    }
   ],
   "source": [
    "import time\n",
    "print(time.time())   # timestamp (컴퓨터 시간)\n",
    "print(time.gmtime())   # GMT\n",
    "print(list(time.localtime()))\n",
    "print(time.localtime().tm_year) # 현지 시간 > tm_mon / tm_mday / tm_hour / tm_min / tm_sec\n",
    "print(time.ctime())   # Thu Sep  2 11:14:29 2021\n",
    "print(time.strftime(\"%B %dth %A %I:%M\"))\n",
    "print(time.strftime(\"%Y-%m-%d\"))"
   ]
  },
  {
   "cell_type": "code",
   "execution_count": 74,
   "metadata": {},
   "outputs": [
    {
     "name": "stdout",
     "output_type": "stream",
     "text": [
      "2023-05-18\n",
      "2020-05-12\n",
      "03:04:05\n",
      "2023-05-18 09:52:59.347260\n",
      "2023\n",
      "100일 뒤 2023-08-26\n"
     ]
    }
   ],
   "source": [
    "import datetime\n",
    "print(datetime.date.today())\n",
    "print(datetime.date(2020,5,12))\n",
    "print(datetime.time(3,4,5))\n",
    "print(datetime.datetime.now())\n",
    "print(datetime.datetime.now().year)   # .year / .month / .day / .hour / .minute / .second\n",
    "\n",
    "today = datetime.date.today()\n",
    "td = datetime.timedelta(days=100)\n",
    "print(\"100일 뒤\", today + td)"
   ]
  }
 ],
 "metadata": {
  "kernelspec": {
   "display_name": "Python 3 (ipykernel)",
   "language": "python",
   "name": "python3"
  },
  "language_info": {
   "codemirror_mode": {
    "name": "ipython",
    "version": 3
   },
   "file_extension": ".py",
   "mimetype": "text/x-python",
   "name": "python",
   "nbconvert_exporter": "python",
   "pygments_lexer": "ipython3",
   "version": "3.9.7"
  },
  "toc": {
   "base_numbering": 1,
   "nav_menu": {},
   "number_sections": true,
   "sideBar": true,
   "skip_h1_title": false,
   "title_cell": "Table of Contents",
   "title_sidebar": "Contents",
   "toc_cell": false,
   "toc_position": {},
   "toc_section_display": true,
   "toc_window_display": false
  }
 },
 "nbformat": 4,
 "nbformat_minor": 2
}
